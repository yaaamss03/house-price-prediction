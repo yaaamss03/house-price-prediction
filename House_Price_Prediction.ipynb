{
 "cells": [
  {
   "cell_type": "markdown",
   "id": "3a04f552",
   "metadata": {
    "id": "NiCg1v_NkPaL",
    "papermill": {
     "duration": 0.01196,
     "end_time": "2025-04-21T06:32:12.092098",
     "exception": false,
     "start_time": "2025-04-21T06:32:12.080138",
     "status": "completed"
    },
    "tags": []
   },
   "source": [
    "# **House price Prediction**"
   ]
  },
  {
   "cell_type": "code",
   "execution_count": 1,
   "id": "f67dab03",
   "metadata": {
    "execution": {
     "iopub.execute_input": "2025-04-21T06:32:12.115533Z",
     "iopub.status.busy": "2025-04-21T06:32:12.115122Z",
     "iopub.status.idle": "2025-04-21T06:32:12.122479Z",
     "shell.execute_reply": "2025-04-21T06:32:12.121731Z"
    },
    "id": "csdr7iGFAQ5J",
    "papermill": {
     "duration": 0.020697,
     "end_time": "2025-04-21T06:32:12.123874",
     "exception": false,
     "start_time": "2025-04-21T06:32:12.103177",
     "status": "completed"
    },
    "tags": []
   },
   "outputs": [],
   "source": [
    "import warnings\n",
    "warnings.filterwarnings('ignore')"
   ]
  },
  {
   "cell_type": "markdown",
   "id": "cf406235",
   "metadata": {
    "id": "Sd3BTdtWkPaO",
    "papermill": {
     "duration": 0.01124,
     "end_time": "2025-04-21T06:32:12.146642",
     "exception": false,
     "start_time": "2025-04-21T06:32:12.135402",
     "status": "completed"
    },
    "tags": []
   },
   "source": [
    "# **1. Loading the Dataset** <a id=\"loading-dataset\"></a>"
   ]
  },
  {
   "cell_type": "code",
   "execution_count": 2,
   "id": "d479e2a2",
   "metadata": {
    "execution": {
     "iopub.execute_input": "2025-04-21T06:32:12.170732Z",
     "iopub.status.busy": "2025-04-21T06:32:12.170397Z",
     "iopub.status.idle": "2025-04-21T06:32:14.019613Z",
     "shell.execute_reply": "2025-04-21T06:32:14.018697Z"
    },
    "id": "CLBpf_49kPaO",
    "papermill": {
     "duration": 1.863789,
     "end_time": "2025-04-21T06:32:14.021375",
     "exception": false,
     "start_time": "2025-04-21T06:32:12.157586",
     "status": "completed"
    },
    "tags": []
   },
   "outputs": [],
   "source": [
    "import pandas as pd\n",
    "df = pd.read_csv(\"/kaggle/input/house-price-prediction-dataset/data.csv\")"
   ]
  },
  {
   "cell_type": "markdown",
   "id": "97d9fe85",
   "metadata": {
    "id": "wYpIBpn3kPaP",
    "papermill": {
     "duration": 0.010687,
     "end_time": "2025-04-21T06:32:14.043246",
     "exception": false,
     "start_time": "2025-04-21T06:32:14.032559",
     "status": "completed"
    },
    "tags": []
   },
   "source": [
    " **1.1 Exploring Dataset** <a id=\"exploring-dataset\"></a>"
   ]
  },
  {
   "cell_type": "code",
   "execution_count": 3,
   "id": "e18f30ec",
   "metadata": {
    "execution": {
     "iopub.execute_input": "2025-04-21T06:32:14.068522Z",
     "iopub.status.busy": "2025-04-21T06:32:14.067813Z",
     "iopub.status.idle": "2025-04-21T06:32:14.096067Z",
     "shell.execute_reply": "2025-04-21T06:32:14.095258Z"
    },
    "id": "ohB2vXWhkPaP",
    "outputId": "7c2efd78-1c98-4d6f-8ab9-9a1e4ee3f485",
    "papermill": {
     "duration": 0.041697,
     "end_time": "2025-04-21T06:32:14.097471",
     "exception": false,
     "start_time": "2025-04-21T06:32:14.055774",
     "status": "completed"
    },
    "tags": []
   },
   "outputs": [
    {
     "data": {
      "text/html": [
       "<div>\n",
       "<style scoped>\n",
       "    .dataframe tbody tr th:only-of-type {\n",
       "        vertical-align: middle;\n",
       "    }\n",
       "\n",
       "    .dataframe tbody tr th {\n",
       "        vertical-align: top;\n",
       "    }\n",
       "\n",
       "    .dataframe thead th {\n",
       "        text-align: right;\n",
       "    }\n",
       "</style>\n",
       "<table border=\"1\" class=\"dataframe\">\n",
       "  <thead>\n",
       "    <tr style=\"text-align: right;\">\n",
       "      <th></th>\n",
       "      <th>date</th>\n",
       "      <th>price</th>\n",
       "      <th>bedrooms</th>\n",
       "      <th>bathrooms</th>\n",
       "      <th>sqft_living</th>\n",
       "      <th>sqft_lot</th>\n",
       "      <th>floors</th>\n",
       "      <th>waterfront</th>\n",
       "      <th>view</th>\n",
       "      <th>condition</th>\n",
       "      <th>sqft_above</th>\n",
       "      <th>sqft_basement</th>\n",
       "      <th>yr_built</th>\n",
       "      <th>yr_renovated</th>\n",
       "      <th>street</th>\n",
       "      <th>city</th>\n",
       "      <th>statezip</th>\n",
       "      <th>country</th>\n",
       "    </tr>\n",
       "  </thead>\n",
       "  <tbody>\n",
       "    <tr>\n",
       "      <th>0</th>\n",
       "      <td>2014-05-02 00:00:00</td>\n",
       "      <td>313000.0</td>\n",
       "      <td>3.0</td>\n",
       "      <td>1.50</td>\n",
       "      <td>1340</td>\n",
       "      <td>7912</td>\n",
       "      <td>1.5</td>\n",
       "      <td>0</td>\n",
       "      <td>0</td>\n",
       "      <td>3</td>\n",
       "      <td>1340</td>\n",
       "      <td>0</td>\n",
       "      <td>1955</td>\n",
       "      <td>2005</td>\n",
       "      <td>18810 Densmore Ave N</td>\n",
       "      <td>Shoreline</td>\n",
       "      <td>WA 98133</td>\n",
       "      <td>USA</td>\n",
       "    </tr>\n",
       "    <tr>\n",
       "      <th>1</th>\n",
       "      <td>2014-05-02 00:00:00</td>\n",
       "      <td>2384000.0</td>\n",
       "      <td>5.0</td>\n",
       "      <td>2.50</td>\n",
       "      <td>3650</td>\n",
       "      <td>9050</td>\n",
       "      <td>2.0</td>\n",
       "      <td>0</td>\n",
       "      <td>4</td>\n",
       "      <td>5</td>\n",
       "      <td>3370</td>\n",
       "      <td>280</td>\n",
       "      <td>1921</td>\n",
       "      <td>0</td>\n",
       "      <td>709 W Blaine St</td>\n",
       "      <td>Seattle</td>\n",
       "      <td>WA 98119</td>\n",
       "      <td>USA</td>\n",
       "    </tr>\n",
       "    <tr>\n",
       "      <th>2</th>\n",
       "      <td>2014-05-02 00:00:00</td>\n",
       "      <td>342000.0</td>\n",
       "      <td>3.0</td>\n",
       "      <td>2.00</td>\n",
       "      <td>1930</td>\n",
       "      <td>11947</td>\n",
       "      <td>1.0</td>\n",
       "      <td>0</td>\n",
       "      <td>0</td>\n",
       "      <td>4</td>\n",
       "      <td>1930</td>\n",
       "      <td>0</td>\n",
       "      <td>1966</td>\n",
       "      <td>0</td>\n",
       "      <td>26206-26214 143rd Ave SE</td>\n",
       "      <td>Kent</td>\n",
       "      <td>WA 98042</td>\n",
       "      <td>USA</td>\n",
       "    </tr>\n",
       "    <tr>\n",
       "      <th>3</th>\n",
       "      <td>2014-05-02 00:00:00</td>\n",
       "      <td>420000.0</td>\n",
       "      <td>3.0</td>\n",
       "      <td>2.25</td>\n",
       "      <td>2000</td>\n",
       "      <td>8030</td>\n",
       "      <td>1.0</td>\n",
       "      <td>0</td>\n",
       "      <td>0</td>\n",
       "      <td>4</td>\n",
       "      <td>1000</td>\n",
       "      <td>1000</td>\n",
       "      <td>1963</td>\n",
       "      <td>0</td>\n",
       "      <td>857 170th Pl NE</td>\n",
       "      <td>Bellevue</td>\n",
       "      <td>WA 98008</td>\n",
       "      <td>USA</td>\n",
       "    </tr>\n",
       "    <tr>\n",
       "      <th>4</th>\n",
       "      <td>2014-05-02 00:00:00</td>\n",
       "      <td>550000.0</td>\n",
       "      <td>4.0</td>\n",
       "      <td>2.50</td>\n",
       "      <td>1940</td>\n",
       "      <td>10500</td>\n",
       "      <td>1.0</td>\n",
       "      <td>0</td>\n",
       "      <td>0</td>\n",
       "      <td>4</td>\n",
       "      <td>1140</td>\n",
       "      <td>800</td>\n",
       "      <td>1976</td>\n",
       "      <td>1992</td>\n",
       "      <td>9105 170th Ave NE</td>\n",
       "      <td>Redmond</td>\n",
       "      <td>WA 98052</td>\n",
       "      <td>USA</td>\n",
       "    </tr>\n",
       "  </tbody>\n",
       "</table>\n",
       "</div>"
      ],
      "text/plain": [
       "                  date      price  bedrooms  bathrooms  sqft_living  sqft_lot  \\\n",
       "0  2014-05-02 00:00:00   313000.0       3.0       1.50         1340      7912   \n",
       "1  2014-05-02 00:00:00  2384000.0       5.0       2.50         3650      9050   \n",
       "2  2014-05-02 00:00:00   342000.0       3.0       2.00         1930     11947   \n",
       "3  2014-05-02 00:00:00   420000.0       3.0       2.25         2000      8030   \n",
       "4  2014-05-02 00:00:00   550000.0       4.0       2.50         1940     10500   \n",
       "\n",
       "   floors  waterfront  view  condition  sqft_above  sqft_basement  yr_built  \\\n",
       "0     1.5           0     0          3        1340              0      1955   \n",
       "1     2.0           0     4          5        3370            280      1921   \n",
       "2     1.0           0     0          4        1930              0      1966   \n",
       "3     1.0           0     0          4        1000           1000      1963   \n",
       "4     1.0           0     0          4        1140            800      1976   \n",
       "\n",
       "   yr_renovated                    street       city  statezip country  \n",
       "0          2005      18810 Densmore Ave N  Shoreline  WA 98133     USA  \n",
       "1             0           709 W Blaine St    Seattle  WA 98119     USA  \n",
       "2             0  26206-26214 143rd Ave SE       Kent  WA 98042     USA  \n",
       "3             0           857 170th Pl NE   Bellevue  WA 98008     USA  \n",
       "4          1992         9105 170th Ave NE    Redmond  WA 98052     USA  "
      ]
     },
     "execution_count": 3,
     "metadata": {},
     "output_type": "execute_result"
    }
   ],
   "source": [
    "df.head()\n",
    "#print(df.head()) -> string representation"
   ]
  },
  {
   "cell_type": "code",
   "execution_count": 4,
   "id": "f38d135f",
   "metadata": {
    "execution": {
     "iopub.execute_input": "2025-04-21T06:32:14.122149Z",
     "iopub.status.busy": "2025-04-21T06:32:14.121321Z",
     "iopub.status.idle": "2025-04-21T06:32:14.149711Z",
     "shell.execute_reply": "2025-04-21T06:32:14.148701Z"
    },
    "id": "BPQ4jhalkPaQ",
    "outputId": "1fe7a7bd-dcce-4527-aa2a-c3394b69bd90",
    "papermill": {
     "duration": 0.042094,
     "end_time": "2025-04-21T06:32:14.151221",
     "exception": false,
     "start_time": "2025-04-21T06:32:14.109127",
     "status": "completed"
    },
    "tags": []
   },
   "outputs": [
    {
     "name": "stdout",
     "output_type": "stream",
     "text": [
      "<class 'pandas.core.frame.DataFrame'>\n",
      "RangeIndex: 4600 entries, 0 to 4599\n",
      "Data columns (total 18 columns):\n",
      " #   Column         Non-Null Count  Dtype  \n",
      "---  ------         --------------  -----  \n",
      " 0   date           4600 non-null   object \n",
      " 1   price          4600 non-null   float64\n",
      " 2   bedrooms       4600 non-null   float64\n",
      " 3   bathrooms      4600 non-null   float64\n",
      " 4   sqft_living    4600 non-null   int64  \n",
      " 5   sqft_lot       4600 non-null   int64  \n",
      " 6   floors         4600 non-null   float64\n",
      " 7   waterfront     4600 non-null   int64  \n",
      " 8   view           4600 non-null   int64  \n",
      " 9   condition      4600 non-null   int64  \n",
      " 10  sqft_above     4600 non-null   int64  \n",
      " 11  sqft_basement  4600 non-null   int64  \n",
      " 12  yr_built       4600 non-null   int64  \n",
      " 13  yr_renovated   4600 non-null   int64  \n",
      " 14  street         4600 non-null   object \n",
      " 15  city           4600 non-null   object \n",
      " 16  statezip       4600 non-null   object \n",
      " 17  country        4600 non-null   object \n",
      "dtypes: float64(4), int64(9), object(5)\n",
      "memory usage: 647.0+ KB\n"
     ]
    }
   ],
   "source": [
    "# concise summary -> Datatypes & Missing values\n",
    "df.info()"
   ]
  },
  {
   "cell_type": "markdown",
   "id": "3d8bc125",
   "metadata": {
    "id": "fotrp2l3kd5f",
    "papermill": {
     "duration": 0.011089,
     "end_time": "2025-04-21T06:32:14.173903",
     "exception": false,
     "start_time": "2025-04-21T06:32:14.162814",
     "status": "completed"
    },
    "tags": []
   },
   "source": [
    "We don't have missing values, so we can avoid **\"Imputation\"** step."
   ]
  },
  {
   "cell_type": "code",
   "execution_count": 5,
   "id": "48e79e9c",
   "metadata": {
    "execution": {
     "iopub.execute_input": "2025-04-21T06:32:14.197611Z",
     "iopub.status.busy": "2025-04-21T06:32:14.197250Z",
     "iopub.status.idle": "2025-04-21T06:32:14.203305Z",
     "shell.execute_reply": "2025-04-21T06:32:14.202501Z"
    },
    "id": "oJ6hYzGP6xxD",
    "outputId": "23a64bf5-8e53-4fd7-fe22-feff10e579c8",
    "papermill": {
     "duration": 0.019725,
     "end_time": "2025-04-21T06:32:14.204858",
     "exception": false,
     "start_time": "2025-04-21T06:32:14.185133",
     "status": "completed"
    },
    "tags": []
   },
   "outputs": [
    {
     "data": {
      "text/plain": [
       "(4600, 18)"
      ]
     },
     "execution_count": 5,
     "metadata": {},
     "output_type": "execute_result"
    }
   ],
   "source": [
    "df.shape"
   ]
  },
  {
   "cell_type": "markdown",
   "id": "db1903e2",
   "metadata": {
    "id": "l9gdbu7h600i",
    "papermill": {
     "duration": 0.011151,
     "end_time": "2025-04-21T06:32:14.228099",
     "exception": false,
     "start_time": "2025-04-21T06:32:14.216948",
     "status": "completed"
    },
    "tags": []
   },
   "source": [
    "We have 4600 rows and 18 columns in this dataset"
   ]
  },
  {
   "cell_type": "code",
   "execution_count": 6,
   "id": "5b9d70ee",
   "metadata": {
    "execution": {
     "iopub.execute_input": "2025-04-21T06:32:14.252088Z",
     "iopub.status.busy": "2025-04-21T06:32:14.251276Z",
     "iopub.status.idle": "2025-04-21T06:32:14.289250Z",
     "shell.execute_reply": "2025-04-21T06:32:14.288395Z"
    },
    "id": "-7N7sbi3kPaQ",
    "outputId": "82796a56-4e26-42b6-84ca-98b1d5920c28",
    "papermill": {
     "duration": 0.051382,
     "end_time": "2025-04-21T06:32:14.290684",
     "exception": false,
     "start_time": "2025-04-21T06:32:14.239302",
     "status": "completed"
    },
    "tags": []
   },
   "outputs": [
    {
     "data": {
      "text/html": [
       "<div>\n",
       "<style scoped>\n",
       "    .dataframe tbody tr th:only-of-type {\n",
       "        vertical-align: middle;\n",
       "    }\n",
       "\n",
       "    .dataframe tbody tr th {\n",
       "        vertical-align: top;\n",
       "    }\n",
       "\n",
       "    .dataframe thead th {\n",
       "        text-align: right;\n",
       "    }\n",
       "</style>\n",
       "<table border=\"1\" class=\"dataframe\">\n",
       "  <thead>\n",
       "    <tr style=\"text-align: right;\">\n",
       "      <th></th>\n",
       "      <th>price</th>\n",
       "      <th>bedrooms</th>\n",
       "      <th>bathrooms</th>\n",
       "      <th>sqft_living</th>\n",
       "      <th>sqft_lot</th>\n",
       "      <th>floors</th>\n",
       "      <th>waterfront</th>\n",
       "      <th>view</th>\n",
       "      <th>condition</th>\n",
       "      <th>sqft_above</th>\n",
       "      <th>sqft_basement</th>\n",
       "      <th>yr_built</th>\n",
       "      <th>yr_renovated</th>\n",
       "    </tr>\n",
       "  </thead>\n",
       "  <tbody>\n",
       "    <tr>\n",
       "      <th>count</th>\n",
       "      <td>4.600000e+03</td>\n",
       "      <td>4600.000000</td>\n",
       "      <td>4600.000000</td>\n",
       "      <td>4600.000000</td>\n",
       "      <td>4.600000e+03</td>\n",
       "      <td>4600.000000</td>\n",
       "      <td>4600.000000</td>\n",
       "      <td>4600.000000</td>\n",
       "      <td>4600.000000</td>\n",
       "      <td>4600.000000</td>\n",
       "      <td>4600.000000</td>\n",
       "      <td>4600.000000</td>\n",
       "      <td>4600.000000</td>\n",
       "    </tr>\n",
       "    <tr>\n",
       "      <th>mean</th>\n",
       "      <td>5.519630e+05</td>\n",
       "      <td>3.400870</td>\n",
       "      <td>2.160815</td>\n",
       "      <td>2139.346957</td>\n",
       "      <td>1.485252e+04</td>\n",
       "      <td>1.512065</td>\n",
       "      <td>0.007174</td>\n",
       "      <td>0.240652</td>\n",
       "      <td>3.451739</td>\n",
       "      <td>1827.265435</td>\n",
       "      <td>312.081522</td>\n",
       "      <td>1970.786304</td>\n",
       "      <td>808.608261</td>\n",
       "    </tr>\n",
       "    <tr>\n",
       "      <th>std</th>\n",
       "      <td>5.638347e+05</td>\n",
       "      <td>0.908848</td>\n",
       "      <td>0.783781</td>\n",
       "      <td>963.206916</td>\n",
       "      <td>3.588444e+04</td>\n",
       "      <td>0.538288</td>\n",
       "      <td>0.084404</td>\n",
       "      <td>0.778405</td>\n",
       "      <td>0.677230</td>\n",
       "      <td>862.168977</td>\n",
       "      <td>464.137228</td>\n",
       "      <td>29.731848</td>\n",
       "      <td>979.414536</td>\n",
       "    </tr>\n",
       "    <tr>\n",
       "      <th>min</th>\n",
       "      <td>0.000000e+00</td>\n",
       "      <td>0.000000</td>\n",
       "      <td>0.000000</td>\n",
       "      <td>370.000000</td>\n",
       "      <td>6.380000e+02</td>\n",
       "      <td>1.000000</td>\n",
       "      <td>0.000000</td>\n",
       "      <td>0.000000</td>\n",
       "      <td>1.000000</td>\n",
       "      <td>370.000000</td>\n",
       "      <td>0.000000</td>\n",
       "      <td>1900.000000</td>\n",
       "      <td>0.000000</td>\n",
       "    </tr>\n",
       "    <tr>\n",
       "      <th>25%</th>\n",
       "      <td>3.228750e+05</td>\n",
       "      <td>3.000000</td>\n",
       "      <td>1.750000</td>\n",
       "      <td>1460.000000</td>\n",
       "      <td>5.000750e+03</td>\n",
       "      <td>1.000000</td>\n",
       "      <td>0.000000</td>\n",
       "      <td>0.000000</td>\n",
       "      <td>3.000000</td>\n",
       "      <td>1190.000000</td>\n",
       "      <td>0.000000</td>\n",
       "      <td>1951.000000</td>\n",
       "      <td>0.000000</td>\n",
       "    </tr>\n",
       "    <tr>\n",
       "      <th>50%</th>\n",
       "      <td>4.609435e+05</td>\n",
       "      <td>3.000000</td>\n",
       "      <td>2.250000</td>\n",
       "      <td>1980.000000</td>\n",
       "      <td>7.683000e+03</td>\n",
       "      <td>1.500000</td>\n",
       "      <td>0.000000</td>\n",
       "      <td>0.000000</td>\n",
       "      <td>3.000000</td>\n",
       "      <td>1590.000000</td>\n",
       "      <td>0.000000</td>\n",
       "      <td>1976.000000</td>\n",
       "      <td>0.000000</td>\n",
       "    </tr>\n",
       "    <tr>\n",
       "      <th>75%</th>\n",
       "      <td>6.549625e+05</td>\n",
       "      <td>4.000000</td>\n",
       "      <td>2.500000</td>\n",
       "      <td>2620.000000</td>\n",
       "      <td>1.100125e+04</td>\n",
       "      <td>2.000000</td>\n",
       "      <td>0.000000</td>\n",
       "      <td>0.000000</td>\n",
       "      <td>4.000000</td>\n",
       "      <td>2300.000000</td>\n",
       "      <td>610.000000</td>\n",
       "      <td>1997.000000</td>\n",
       "      <td>1999.000000</td>\n",
       "    </tr>\n",
       "    <tr>\n",
       "      <th>max</th>\n",
       "      <td>2.659000e+07</td>\n",
       "      <td>9.000000</td>\n",
       "      <td>8.000000</td>\n",
       "      <td>13540.000000</td>\n",
       "      <td>1.074218e+06</td>\n",
       "      <td>3.500000</td>\n",
       "      <td>1.000000</td>\n",
       "      <td>4.000000</td>\n",
       "      <td>5.000000</td>\n",
       "      <td>9410.000000</td>\n",
       "      <td>4820.000000</td>\n",
       "      <td>2014.000000</td>\n",
       "      <td>2014.000000</td>\n",
       "    </tr>\n",
       "  </tbody>\n",
       "</table>\n",
       "</div>"
      ],
      "text/plain": [
       "              price     bedrooms    bathrooms   sqft_living      sqft_lot  \\\n",
       "count  4.600000e+03  4600.000000  4600.000000   4600.000000  4.600000e+03   \n",
       "mean   5.519630e+05     3.400870     2.160815   2139.346957  1.485252e+04   \n",
       "std    5.638347e+05     0.908848     0.783781    963.206916  3.588444e+04   \n",
       "min    0.000000e+00     0.000000     0.000000    370.000000  6.380000e+02   \n",
       "25%    3.228750e+05     3.000000     1.750000   1460.000000  5.000750e+03   \n",
       "50%    4.609435e+05     3.000000     2.250000   1980.000000  7.683000e+03   \n",
       "75%    6.549625e+05     4.000000     2.500000   2620.000000  1.100125e+04   \n",
       "max    2.659000e+07     9.000000     8.000000  13540.000000  1.074218e+06   \n",
       "\n",
       "            floors   waterfront         view    condition   sqft_above  \\\n",
       "count  4600.000000  4600.000000  4600.000000  4600.000000  4600.000000   \n",
       "mean      1.512065     0.007174     0.240652     3.451739  1827.265435   \n",
       "std       0.538288     0.084404     0.778405     0.677230   862.168977   \n",
       "min       1.000000     0.000000     0.000000     1.000000   370.000000   \n",
       "25%       1.000000     0.000000     0.000000     3.000000  1190.000000   \n",
       "50%       1.500000     0.000000     0.000000     3.000000  1590.000000   \n",
       "75%       2.000000     0.000000     0.000000     4.000000  2300.000000   \n",
       "max       3.500000     1.000000     4.000000     5.000000  9410.000000   \n",
       "\n",
       "       sqft_basement     yr_built  yr_renovated  \n",
       "count    4600.000000  4600.000000   4600.000000  \n",
       "mean      312.081522  1970.786304    808.608261  \n",
       "std       464.137228    29.731848    979.414536  \n",
       "min         0.000000  1900.000000      0.000000  \n",
       "25%         0.000000  1951.000000      0.000000  \n",
       "50%         0.000000  1976.000000      0.000000  \n",
       "75%       610.000000  1997.000000   1999.000000  \n",
       "max      4820.000000  2014.000000   2014.000000  "
      ]
     },
     "execution_count": 6,
     "metadata": {},
     "output_type": "execute_result"
    }
   ],
   "source": [
    "# statistical summary of the data\n",
    "df.describe()"
   ]
  },
  {
   "cell_type": "markdown",
   "id": "9e8910bb",
   "metadata": {
    "id": "OA6R4BzHkPaQ",
    "papermill": {
     "duration": 0.011854,
     "end_time": "2025-04-21T06:32:14.315443",
     "exception": false,
     "start_time": "2025-04-21T06:32:14.303589",
     "status": "completed"
    },
    "tags": []
   },
   "source": [
    "**1.2 Checking Null Values** <a id=\"checking-null-values\"></a>\n",
    "- Identifying missing values in the dataset."
   ]
  },
  {
   "cell_type": "code",
   "execution_count": 7,
   "id": "25fb158b",
   "metadata": {
    "execution": {
     "iopub.execute_input": "2025-04-21T06:32:14.341124Z",
     "iopub.status.busy": "2025-04-21T06:32:14.340563Z",
     "iopub.status.idle": "2025-04-21T06:32:14.349863Z",
     "shell.execute_reply": "2025-04-21T06:32:14.349090Z"
    },
    "id": "1a9M_dE5kPaQ",
    "outputId": "a4611693-f538-4ab0-d4c2-f60752ed16aa",
    "papermill": {
     "duration": 0.023827,
     "end_time": "2025-04-21T06:32:14.351226",
     "exception": false,
     "start_time": "2025-04-21T06:32:14.327399",
     "status": "completed"
    },
    "tags": []
   },
   "outputs": [
    {
     "data": {
      "text/plain": [
       "date             0\n",
       "price            0\n",
       "bedrooms         0\n",
       "bathrooms        0\n",
       "sqft_living      0\n",
       "sqft_lot         0\n",
       "floors           0\n",
       "waterfront       0\n",
       "view             0\n",
       "condition        0\n",
       "sqft_above       0\n",
       "sqft_basement    0\n",
       "yr_built         0\n",
       "yr_renovated     0\n",
       "street           0\n",
       "city             0\n",
       "statezip         0\n",
       "country          0\n",
       "dtype: int64"
      ]
     },
     "execution_count": 7,
     "metadata": {},
     "output_type": "execute_result"
    }
   ],
   "source": [
    "# check for missing values\n",
    "df.isnull().sum()\n",
    "# No missing values"
   ]
  },
  {
   "cell_type": "markdown",
   "id": "606ef6de",
   "metadata": {
    "id": "N2wASocz7JAu",
    "papermill": {
     "duration": 0.011992,
     "end_time": "2025-04-21T06:32:14.375059",
     "exception": false,
     "start_time": "2025-04-21T06:32:14.363067",
     "status": "completed"
    },
    "tags": []
   },
   "source": [
    "**1.3 Checking Duplicate Values** <a id=\"checking-duplicate-values\"></a>\n",
    "- Identifying duplicate values in the dataset."
   ]
  },
  {
   "cell_type": "code",
   "execution_count": 8,
   "id": "38db4e37",
   "metadata": {
    "execution": {
     "iopub.execute_input": "2025-04-21T06:32:14.459473Z",
     "iopub.status.busy": "2025-04-21T06:32:14.459149Z",
     "iopub.status.idle": "2025-04-21T06:32:14.475068Z",
     "shell.execute_reply": "2025-04-21T06:32:14.474299Z"
    },
    "id": "sKsxWcVw7QUM",
    "outputId": "53ecaaf2-b20d-476a-d5bd-dea19edbde9f",
    "papermill": {
     "duration": 0.029863,
     "end_time": "2025-04-21T06:32:14.476412",
     "exception": false,
     "start_time": "2025-04-21T06:32:14.446549",
     "status": "completed"
    },
    "tags": []
   },
   "outputs": [
    {
     "data": {
      "text/html": [
       "<div>\n",
       "<style scoped>\n",
       "    .dataframe tbody tr th:only-of-type {\n",
       "        vertical-align: middle;\n",
       "    }\n",
       "\n",
       "    .dataframe tbody tr th {\n",
       "        vertical-align: top;\n",
       "    }\n",
       "\n",
       "    .dataframe thead th {\n",
       "        text-align: right;\n",
       "    }\n",
       "</style>\n",
       "<table border=\"1\" class=\"dataframe\">\n",
       "  <thead>\n",
       "    <tr style=\"text-align: right;\">\n",
       "      <th></th>\n",
       "      <th>date</th>\n",
       "      <th>price</th>\n",
       "      <th>bedrooms</th>\n",
       "      <th>bathrooms</th>\n",
       "      <th>sqft_living</th>\n",
       "      <th>sqft_lot</th>\n",
       "      <th>floors</th>\n",
       "      <th>waterfront</th>\n",
       "      <th>view</th>\n",
       "      <th>condition</th>\n",
       "      <th>sqft_above</th>\n",
       "      <th>sqft_basement</th>\n",
       "      <th>yr_built</th>\n",
       "      <th>yr_renovated</th>\n",
       "      <th>street</th>\n",
       "      <th>city</th>\n",
       "      <th>statezip</th>\n",
       "      <th>country</th>\n",
       "    </tr>\n",
       "  </thead>\n",
       "  <tbody>\n",
       "  </tbody>\n",
       "</table>\n",
       "</div>"
      ],
      "text/plain": [
       "Empty DataFrame\n",
       "Columns: [date, price, bedrooms, bathrooms, sqft_living, sqft_lot, floors, waterfront, view, condition, sqft_above, sqft_basement, yr_built, yr_renovated, street, city, statezip, country]\n",
       "Index: []"
      ]
     },
     "execution_count": 8,
     "metadata": {},
     "output_type": "execute_result"
    }
   ],
   "source": [
    "dup = df[df.duplicated()]\n",
    "dup"
   ]
  },
  {
   "cell_type": "markdown",
   "id": "4e875e0f",
   "metadata": {
    "id": "hHOl7cwi7xZz",
    "papermill": {
     "duration": 0.011714,
     "end_time": "2025-04-21T06:32:14.500069",
     "exception": false,
     "start_time": "2025-04-21T06:32:14.488355",
     "status": "completed"
    },
    "tags": []
   },
   "source": [
    "There are no duplicates in this dataset"
   ]
  },
  {
   "cell_type": "markdown",
   "id": "23fdfe3d",
   "metadata": {
    "id": "1iV5tD_fkPaQ",
    "papermill": {
     "duration": 0.011552,
     "end_time": "2025-04-21T06:32:14.523977",
     "exception": false,
     "start_time": "2025-04-21T06:32:14.512425",
     "status": "completed"
    },
    "tags": []
   },
   "source": [
    "# **2. EDA-Visualizing Target Variable** <a id=\"visualizing-target\"></a>"
   ]
  },
  {
   "cell_type": "markdown",
   "id": "55fed88c",
   "metadata": {
    "id": "jC_G-PGgyAR0",
    "papermill": {
     "duration": 0.011561,
     "end_time": "2025-04-21T06:32:14.547382",
     "exception": false,
     "start_time": "2025-04-21T06:32:14.535821",
     "status": "completed"
    },
    "tags": []
   },
   "source": [
    "We have various Visualization techniques:\n",
    "1. Bar Plot: Aggregates of a numerical variable; doesn't count occurences\n",
    "2. Pie Chart: Distribution of categories; not suitable for higher categories\n",
    "3. **Histogram: Continuous data; by dividing data into bins**\n",
    "4. Box Plot: Distribution of numerical variables and its quartiles\n",
    "5. CountPlot: For categorical data"
   ]
  },
  {
   "cell_type": "code",
   "execution_count": 9,
   "id": "1cc86ec6",
   "metadata": {
    "execution": {
     "iopub.execute_input": "2025-04-21T06:32:14.573818Z",
     "iopub.status.busy": "2025-04-21T06:32:14.573063Z",
     "iopub.status.idle": "2025-04-21T06:32:14.578361Z",
     "shell.execute_reply": "2025-04-21T06:32:14.577596Z"
    },
    "id": "m7QLtajJYyDq",
    "outputId": "2fda59e3-d46f-449c-95c0-402f55a33596",
    "papermill": {
     "duration": 0.020568,
     "end_time": "2025-04-21T06:32:14.579641",
     "exception": false,
     "start_time": "2025-04-21T06:32:14.559073",
     "status": "completed"
    },
    "tags": []
   },
   "outputs": [
    {
     "data": {
      "text/plain": [
       "Index(['date', 'price', 'bedrooms', 'bathrooms', 'sqft_living', 'sqft_lot',\n",
       "       'floors', 'waterfront', 'view', 'condition', 'sqft_above',\n",
       "       'sqft_basement', 'yr_built', 'yr_renovated', 'street', 'city',\n",
       "       'statezip', 'country'],\n",
       "      dtype='object')"
      ]
     },
     "execution_count": 9,
     "metadata": {},
     "output_type": "execute_result"
    }
   ],
   "source": [
    "df.columns"
   ]
  },
  {
   "cell_type": "code",
   "execution_count": 10,
   "id": "a69d10ee",
   "metadata": {
    "execution": {
     "iopub.execute_input": "2025-04-21T06:32:14.606550Z",
     "iopub.status.busy": "2025-04-21T06:32:14.605864Z",
     "iopub.status.idle": "2025-04-21T06:32:16.655240Z",
     "shell.execute_reply": "2025-04-21T06:32:16.654154Z"
    },
    "id": "KCXCiVbikPaR",
    "outputId": "cc24dd0b-ed78-4e6e-c4b0-b056e6e27741",
    "papermill": {
     "duration": 2.064812,
     "end_time": "2025-04-21T06:32:16.656818",
     "exception": false,
     "start_time": "2025-04-21T06:32:14.592006",
     "status": "completed"
    },
    "tags": []
   },
   "outputs": [
    {
     "data": {
      "image/png": "[encoded data removed]",
      "text/plain": [
       "<Figure size 640x480 with 1 Axes>"
      ]
     },
     "metadata": {},
     "output_type": "display_data"
    }
   ],
   "source": [
    "import matplotlib.pyplot as plt\n",
    "import seaborn as sns\n",
    "\n",
    "def visualize_target(df, cols):\n",
    "  sns.histplot(df[cols], bins = 50, kde = True)\n",
    "  plt.title('House Price Distribution')\n",
    "  plt.show()\n",
    "\n",
    "visualize_target(df, 'price')"
   ]
  },
  {
   "cell_type": "markdown",
   "id": "439cee87",
   "metadata": {
    "id": "cvbSAXOskPaR",
    "papermill": {
     "duration": 0.012346,
     "end_time": "2025-04-21T06:32:16.682075",
     "exception": false,
     "start_time": "2025-04-21T06:32:16.669729",
     "status": "completed"
    },
    "tags": []
   },
   "source": [
    "**huge peak at 0.0 (x-axis)** and **high bars and high density line** suggests\n",
    "1. outliers causing skew (remove them Using IQR)\n",
    "2. Skewed distribution (apply log transformation)\n",
    "3. Range of values too large (Winsorization capping)"
   ]
  },
  {
   "cell_type": "markdown",
   "id": "f68da240",
   "metadata": {
    "id": "ax_hr_EukPaR",
    "papermill": {
     "duration": 0.012324,
     "end_time": "2025-04-21T06:32:16.707236",
     "exception": false,
     "start_time": "2025-04-21T06:32:16.694912",
     "status": "completed"
    },
    "tags": []
   },
   "source": [
    "**2.1 Checking Summary Statistics of the Data** <a id=\"summary-statistics\"></a>"
   ]
  },
  {
   "cell_type": "code",
   "execution_count": 11,
   "id": "c34ad6b2",
   "metadata": {
    "execution": {
     "iopub.execute_input": "2025-04-21T06:32:16.733312Z",
     "iopub.status.busy": "2025-04-21T06:32:16.732887Z",
     "iopub.status.idle": "2025-04-21T06:32:16.743141Z",
     "shell.execute_reply": "2025-04-21T06:32:16.742147Z"
    },
    "id": "dZ0MGo95kPaR",
    "outputId": "fa6d7ef7-0c0e-443d-c3f5-bac907ff293e",
    "papermill": {
     "duration": 0.024917,
     "end_time": "2025-04-21T06:32:16.744435",
     "exception": false,
     "start_time": "2025-04-21T06:32:16.719518",
     "status": "completed"
    },
    "tags": []
   },
   "outputs": [
    {
     "name": "stdout",
     "output_type": "stream",
     "text": [
      "count    4.600000e+03\n",
      "mean     5.519630e+05\n",
      "std      5.638347e+05\n",
      "min      0.000000e+00\n",
      "25%      3.228750e+05\n",
      "50%      4.609435e+05\n",
      "75%      6.549625e+05\n",
      "max      2.659000e+07\n",
      "Name: price, dtype: float64\n",
      "Number of zeros: 49\n",
      "Skewness: 24.79\n"
     ]
    }
   ],
   "source": [
    "import numpy as np\n",
    "\n",
    "print(df['price'].describe()) # descriptive stats\n",
    "\n",
    "#checking zero values\n",
    "print(f\"Number of zeros: {sum(df['price'] == 0)}\")\n",
    "\n",
    "# checking skewness\n",
    "print(f\"Skewness: {df['price'].skew():.2f}\")"
   ]
  },
  {
   "cell_type": "markdown",
   "id": "d52b39ff",
   "metadata": {
    "id": "_UuoLHg3kPaR",
    "papermill": {
     "duration": 0.012655,
     "end_time": "2025-04-21T06:32:16.769847",
     "exception": false,
     "start_time": "2025-04-21T06:32:16.757192",
     "status": "completed"
    },
    "tags": []
   },
   "source": [
    "1. Right-skewd data: Positvely skewed (right-tail is long\n",
    "2. Mean > Median = few large values pull mean to right\n",
    "3. Peak Mode is on the left side\n",
    "4. If we understand this, we can understand our data and choose right stat model for further analysis\n",
    "5. Skewd dist -> Normal dist using:\n",
    "\n"
   ]
  },
  {
   "cell_type": "markdown",
   "id": "e6b49566",
   "metadata": {
    "id": "27BsFuxmkPaR",
    "papermill": {
     "duration": 0.012209,
     "end_time": "2025-04-21T06:32:16.794407",
     "exception": false,
     "start_time": "2025-04-21T06:32:16.782198",
     "status": "completed"
    },
    "tags": []
   },
   "source": [
    "**2.2 Removing Zero Values (Skewed Distribution)** <a id=\"removing-zero-values\"></a>"
   ]
  },
  {
   "cell_type": "markdown",
   "id": "e8eb46e3",
   "metadata": {
    "id": "wNNMDGJI9pys",
    "papermill": {
     "duration": 0.012022,
     "end_time": "2025-04-21T06:32:16.818829",
     "exception": false,
     "start_time": "2025-04-21T06:32:16.806807",
     "status": "completed"
    },
    "tags": []
   },
   "source": [
    "1. Handling invalid zeros: removing rows with zero prices\n",
    "2. Original (r,c) - (4600, 18) -> (4551,18)"
   ]
  },
  {
   "cell_type": "code",
   "execution_count": 12,
   "id": "085f854c",
   "metadata": {
    "execution": {
     "iopub.execute_input": "2025-04-21T06:32:16.845406Z",
     "iopub.status.busy": "2025-04-21T06:32:16.845112Z",
     "iopub.status.idle": "2025-04-21T06:32:16.852160Z",
     "shell.execute_reply": "2025-04-21T06:32:16.851442Z"
    },
    "id": "4vipvQNpkPaR",
    "outputId": "7c21d097-e507-4345-c2f1-a1865d74ed0f",
    "papermill": {
     "duration": 0.021665,
     "end_time": "2025-04-21T06:32:16.853433",
     "exception": false,
     "start_time": "2025-04-21T06:32:16.831768",
     "status": "completed"
    },
    "tags": []
   },
   "outputs": [
    {
     "data": {
      "text/plain": [
       "(4551, 18)"
      ]
     },
     "execution_count": 12,
     "metadata": {},
     "output_type": "execute_result"
    }
   ],
   "source": [
    "df = df[df['price'] > 0]\n",
    "df.shape"
   ]
  },
  {
   "cell_type": "markdown",
   "id": "a61ff167",
   "metadata": {
    "id": "2LE3vqywkPaS",
    "papermill": {
     "duration": 0.012419,
     "end_time": "2025-04-21T06:32:16.878625",
     "exception": false,
     "start_time": "2025-04-21T06:32:16.866206",
     "status": "completed"
    },
    "tags": []
   },
   "source": [
    "We are not imputing values in place of 0s because this can distort the data\n",
    "eg: [1,2,0,3,0,4,5]\n",
    "after removing zeros: [1,2,3,4,5]\n",
    "after imputing zeros with mean (3): [1,2,3,3,3,4,5]\n",
    "appearing more frequently than it should, distorting true distribution (artificial inflation)\n",
    "Ultimately, your regression model learns a biased relationship due to these artificial observations, because our goal is to learn relationship b/w variables and predict house price"
   ]
  },
  {
   "cell_type": "code",
   "execution_count": 13,
   "id": "4c2d95e5",
   "metadata": {
    "execution": {
     "iopub.execute_input": "2025-04-21T06:32:16.905549Z",
     "iopub.status.busy": "2025-04-21T06:32:16.905239Z",
     "iopub.status.idle": "2025-04-21T06:32:17.209112Z",
     "shell.execute_reply": "2025-04-21T06:32:17.208162Z"
    },
    "id": "SLGwDHi2kPaS",
    "outputId": "76fcb8c0-e25f-46f2-dc28-02563e5ee90e",
    "papermill": {
     "duration": 0.319086,
     "end_time": "2025-04-21T06:32:17.210520",
     "exception": false,
     "start_time": "2025-04-21T06:32:16.891434",
     "status": "completed"
    },
    "tags": []
   },
   "outputs": [
    {
     "name": "stdout",
     "output_type": "stream",
     "text": [
      "Skewness is: 25.023817262008485\n"
     ]
    },
    {
     "data": {
      "image/png": "[encoded data removed]",
      "text/plain": [
       "<Figure size 640x480 with 1 Axes>"
      ]
     },
     "metadata": {},
     "output_type": "display_data"
    }
   ],
   "source": [
    "# plot new distribution after removing 0s\n",
    "\n",
    "def dist_after_removing_skewness(df, cols):\n",
    "  sns.histplot(df[cols], bins = 50, kde = True)\n",
    "  print('Skewness is:', df[cols].skew())\n",
    "\n",
    "  plt.title('House Price Distribution after removing 0 priced-rows')\n",
    "  plt.show()\n",
    "\n",
    "dist_after_removing_skewness(df, 'price')"
   ]
  },
  {
   "cell_type": "markdown",
   "id": "9957b933",
   "metadata": {
    "id": "Q4kXkNsUkPaS",
    "papermill": {
     "duration": 0.012984,
     "end_time": "2025-04-21T06:32:17.237215",
     "exception": false,
     "start_time": "2025-04-21T06:32:17.224231",
     "status": "completed"
    },
    "tags": []
   },
   "source": [
    "Skewness increased from **24.79 -> 25.02** indicating \"**removed zeroes**\" helping to balance distribution slightly. But **extreme values** are dominating the distribution. If we don't cap these extreme values, linear regression makes predictions biased towards high prices."
   ]
  },
  {
   "cell_type": "markdown",
   "id": "42b1c7c9",
   "metadata": {
    "id": "8SA3BtClkPaT",
    "papermill": {
     "duration": 0.012918,
     "end_time": "2025-04-21T06:32:17.263452",
     "exception": false,
     "start_time": "2025-04-21T06:32:17.250534",
     "status": "completed"
    },
    "tags": []
   },
   "source": [
    "#**3.Data Pre-processing: Outlier Analysis** <a id=\"outlier-analysis\"></a>"
   ]
  },
  {
   "cell_type": "markdown",
   "id": "81f001bd",
   "metadata": {
    "id": "-p5-on28kPaT",
    "papermill": {
     "duration": 0.012824,
     "end_time": "2025-04-21T06:32:17.289245",
     "exception": false,
     "start_time": "2025-04-21T06:32:17.276421",
     "status": "completed"
    },
    "tags": []
   },
   "source": [
    "For checking outliers:\n",
    "1. **Box Plot: uses IQR (anything >1.5*IQR -> outlier)**\n",
    "2. Scatter Plot: for small datasets to see individual points\n",
    "3. Histogram: Outliers don't stand out clearly here. Because, in this, focus in on shape but not extreme points\n",
    "4. Z-score: for normal distribution; since our data is highly skewed, this method will incorrectly classify many values as outliers\n",
    "5. DBSCAN (density-based spatial clustering of applications with noise)/ Isolation Forest: For High-dimensional data with complex relationships"
   ]
  },
  {
   "cell_type": "markdown",
   "id": "ef3deac5",
   "metadata": {
    "id": "MT1nNcGGkPaT",
    "papermill": {
     "duration": 0.012664,
     "end_time": "2025-04-21T06:32:17.315053",
     "exception": false,
     "start_time": "2025-04-21T06:32:17.302389",
     "status": "completed"
    },
    "tags": []
   },
   "source": [
    "**3.1 Box-Plot Analysis** <a id=\"box-plot-analysis\"></a>"
   ]
  },
  {
   "cell_type": "code",
   "execution_count": 14,
   "id": "718eeadd",
   "metadata": {
    "execution": {
     "iopub.execute_input": "2025-04-21T06:32:17.342218Z",
     "iopub.status.busy": "2025-04-21T06:32:17.341800Z",
     "iopub.status.idle": "2025-04-21T06:32:17.448393Z",
     "shell.execute_reply": "2025-04-21T06:32:17.447525Z"
    },
    "id": "NcJreWAKkPaT",
    "outputId": "db1f34db-8f33-45de-af21-d7aefc9f3607",
    "papermill": {
     "duration": 0.121806,
     "end_time": "2025-04-21T06:32:17.449758",
     "exception": false,
     "start_time": "2025-04-21T06:32:17.327952",
     "status": "completed"
    },
    "tags": []
   },
   "outputs": [
    {
     "data": {
      "image/png": "[encoded data removed]",
      "text/plain": [
       "<Figure size 800x500 with 1 Axes>"
      ]
     },
     "metadata": {},
     "output_type": "display_data"
    }
   ],
   "source": [
    "# Boxplot - price distribution\n",
    "def box_plot(df, cols):\n",
    "  plt.figure(figsize = (8,5))\n",
    "  sns.boxplot(x = df[cols])\n",
    "  plt.title(\"Boxplot of House prices\")\n",
    "  plt.show()\n",
    "\n",
    "box_plot(df, 'price')"
   ]
  },
  {
   "cell_type": "markdown",
   "id": "69569c62",
   "metadata": {
    "id": "TVOdh3lW_2BJ",
    "papermill": {
     "duration": 0.013066,
     "end_time": "2025-04-21T06:32:17.476235",
     "exception": false,
     "start_time": "2025-04-21T06:32:17.463169",
     "status": "completed"
    },
    "tags": []
   },
   "source": [
    "**Percentile**"
   ]
  },
  {
   "cell_type": "code",
   "execution_count": 15,
   "id": "bf6862dc",
   "metadata": {
    "execution": {
     "iopub.execute_input": "2025-04-21T06:32:17.504199Z",
     "iopub.status.busy": "2025-04-21T06:32:17.503893Z",
     "iopub.status.idle": "2025-04-21T06:32:17.510501Z",
     "shell.execute_reply": "2025-04-21T06:32:17.509724Z"
    },
    "id": "uWKCn4bo_0vH",
    "outputId": "8df5bce2-282d-4ab6-d198-ccd070d22770",
    "papermill": {
     "duration": 0.022235,
     "end_time": "2025-04-21T06:32:17.511778",
     "exception": false,
     "start_time": "2025-04-21T06:32:17.489543",
     "status": "completed"
    },
    "tags": []
   },
   "outputs": [
    {
     "name": "stdout",
     "output_type": "stream",
     "text": [
      "99th percentile price :2016000.0\n",
      "Max price: 26590000.0\n"
     ]
    }
   ],
   "source": [
    "# 99th percentile\n",
    "import numpy as np\n",
    "def percentile(df, cols):\n",
    "  perc_99 = np.percentile(df[cols], 99)\n",
    "  print(f'99th percentile price :{perc_99}')\n",
    "  print(f\"Max price: {df[cols].max()}\")\n",
    "\n",
    "percentile(df, 'price')"
   ]
  },
  {
   "cell_type": "markdown",
   "id": "ddac3aac",
   "metadata": {
    "id": "e0_r4bQCkPaT",
    "papermill": {
     "duration": 0.013755,
     "end_time": "2025-04-21T06:32:17.539218",
     "exception": false,
     "start_time": "2025-04-21T06:32:17.525463",
     "status": "completed"
    },
    "tags": []
   },
   "source": [
    "There are extreme outliers i.e., 13 times higher than 99th percentile; probably high-priced houses are heavily skewing the distribution"
   ]
  },
  {
   "cell_type": "markdown",
   "id": "f56a5a72",
   "metadata": {
    "id": "UOjlOnV5kPaT",
    "papermill": {
     "duration": 0.013176,
     "end_time": "2025-04-21T06:32:17.565970",
     "exception": false,
     "start_time": "2025-04-21T06:32:17.552794",
     "status": "completed"
    },
    "tags": []
   },
   "source": [
    "**3.2 Winsorization (Capping Outliers)**\n",
    "<a id=\"winsorization\"></a>\n"
   ]
  },
  {
   "cell_type": "code",
   "execution_count": 16,
   "id": "376247f2",
   "metadata": {
    "execution": {
     "iopub.execute_input": "2025-04-21T06:32:17.594201Z",
     "iopub.status.busy": "2025-04-21T06:32:17.593875Z",
     "iopub.status.idle": "2025-04-21T06:32:17.920093Z",
     "shell.execute_reply": "2025-04-21T06:32:17.919196Z"
    },
    "id": "g1HcMLXzkPaT",
    "outputId": "62478cdf-b86e-42c9-e4cc-00202288a14a",
    "papermill": {
     "duration": 0.342166,
     "end_time": "2025-04-21T06:32:17.921494",
     "exception": false,
     "start_time": "2025-04-21T06:32:17.579328",
     "status": "completed"
    },
    "tags": []
   },
   "outputs": [
    {
     "data": {
      "image/png": "[encoded data removed]",
      "text/plain": [
       "<Figure size 640x480 with 1 Axes>"
      ]
     },
     "metadata": {},
     "output_type": "display_data"
    },
    {
     "name": "stdout",
     "output_type": "stream",
     "text": [
      "New Max Price: 2027000.0\n",
      "New Skewness: 2.023416422278002\n"
     ]
    }
   ],
   "source": [
    "from scipy.stats.mstats import winsorize\n",
    "\n",
    "def winsorization(df, cols):\n",
    "  # capping top 1% of extreme values\n",
    "  df['new_price'] = winsorize(df['price'], limits = [0, 0.01])\n",
    "winsorization(df, 'price')\n",
    "\n",
    "def new_plot(df, cols):\n",
    "  # plotting new  distribution\n",
    "  sns.histplot(df['new_price'], bins = 50, kde = True)\n",
    "  plt.title('Winsorized Price Distribution')\n",
    "  plt.show()\n",
    "\n",
    "  # checking new max price\n",
    "  print(f\"New Max Price: {df['new_price'].max()}\")\n",
    "\n",
    "  #checking new skewness\n",
    "  print(f\"New Skewness: {df['new_price'].skew()}\")\n",
    "\n",
    "new_plot(df, 'new_price')"
   ]
  },
  {
   "cell_type": "markdown",
   "id": "316eb14d",
   "metadata": {
    "id": "miKTlNHhkPaT",
    "papermill": {
     "duration": 0.013931,
     "end_time": "2025-04-21T06:32:17.950359",
     "exception": false,
     "start_time": "2025-04-21T06:32:17.936428",
     "status": "completed"
    },
    "tags": []
   },
   "source": [
    "After capping, **skewness** went from **25.02 -> 2.02**. Ideally it should be (<2)\n",
    "It means we **successfully reduced the impact of extreme outliers**. We brought distribution closer to somewhat normal.\n",
    "We didn't remove those high-priced rows, we just capped them, avoided loosing too much information while making our model more balanced."
   ]
  },
  {
   "cell_type": "markdown",
   "id": "fac952c3",
   "metadata": {
    "id": "WNplsSGxkPaU",
    "papermill": {
     "duration": 0.013837,
     "end_time": "2025-04-21T06:32:17.978407",
     "exception": false,
     "start_time": "2025-04-21T06:32:17.964570",
     "status": "completed"
    },
    "tags": []
   },
   "source": [
    "**3.3 Data Transformation - Log Transformation** <a id=\"log-transformation\"></a>\n",
    "- Applying log transformation for normality especially for positive values helps normalize the data.\n",
    "- To **change distribution** to **reduce data skewness**\n",
    "\n",
    "1. **Log transformation : wide range of values**\n",
    "2. Sq. root transformation: moderate skewness\n",
    "3. Box-Cox: +ve data\n",
    "4. Yeo-Johnson: flexible for all datatypes\n",
    "5. Reciprocal Transformation: not suitable for zero values\n",
    "\n",
    "\n"
   ]
  },
  {
   "cell_type": "code",
   "execution_count": 17,
   "id": "c892cf13",
   "metadata": {
    "execution": {
     "iopub.execute_input": "2025-04-21T06:32:18.008096Z",
     "iopub.status.busy": "2025-04-21T06:32:18.007795Z",
     "iopub.status.idle": "2025-04-21T06:32:18.031756Z",
     "shell.execute_reply": "2025-04-21T06:32:18.030810Z"
    },
    "id": "kmJYO3ozkPaU",
    "outputId": "d912b6cf-c9fd-42a7-c41f-9c9694b9caa1",
    "papermill": {
     "duration": 0.040601,
     "end_time": "2025-04-21T06:32:18.033160",
     "exception": false,
     "start_time": "2025-04-21T06:32:17.992559",
     "status": "completed"
    },
    "tags": []
   },
   "outputs": [
    {
     "name": "stdout",
     "output_type": "stream",
     "text": [
      "Skewness after transformation: 0.09235554775501388\n"
     ]
    },
    {
     "data": {
      "text/html": [
       "<div>\n",
       "<style scoped>\n",
       "    .dataframe tbody tr th:only-of-type {\n",
       "        vertical-align: middle;\n",
       "    }\n",
       "\n",
       "    .dataframe tbody tr th {\n",
       "        vertical-align: top;\n",
       "    }\n",
       "\n",
       "    .dataframe thead th {\n",
       "        text-align: right;\n",
       "    }\n",
       "</style>\n",
       "<table border=\"1\" class=\"dataframe\">\n",
       "  <thead>\n",
       "    <tr style=\"text-align: right;\">\n",
       "      <th></th>\n",
       "      <th>date</th>\n",
       "      <th>price</th>\n",
       "      <th>bedrooms</th>\n",
       "      <th>bathrooms</th>\n",
       "      <th>sqft_living</th>\n",
       "      <th>sqft_lot</th>\n",
       "      <th>floors</th>\n",
       "      <th>waterfront</th>\n",
       "      <th>view</th>\n",
       "      <th>condition</th>\n",
       "      <th>sqft_above</th>\n",
       "      <th>sqft_basement</th>\n",
       "      <th>yr_built</th>\n",
       "      <th>yr_renovated</th>\n",
       "      <th>street</th>\n",
       "      <th>city</th>\n",
       "      <th>statezip</th>\n",
       "      <th>country</th>\n",
       "      <th>new_price</th>\n",
       "      <th>new_price_log</th>\n",
       "    </tr>\n",
       "  </thead>\n",
       "  <tbody>\n",
       "    <tr>\n",
       "      <th>0</th>\n",
       "      <td>2014-05-02 00:00:00</td>\n",
       "      <td>3.130000e+05</td>\n",
       "      <td>3.0</td>\n",
       "      <td>1.50</td>\n",
       "      <td>1340</td>\n",
       "      <td>7912</td>\n",
       "      <td>1.5</td>\n",
       "      <td>0</td>\n",
       "      <td>0</td>\n",
       "      <td>3</td>\n",
       "      <td>1340</td>\n",
       "      <td>0</td>\n",
       "      <td>1955</td>\n",
       "      <td>2005</td>\n",
       "      <td>18810 Densmore Ave N</td>\n",
       "      <td>Shoreline</td>\n",
       "      <td>WA 98133</td>\n",
       "      <td>USA</td>\n",
       "      <td>3.130000e+05</td>\n",
       "      <td>12.653962</td>\n",
       "    </tr>\n",
       "    <tr>\n",
       "      <th>1</th>\n",
       "      <td>2014-05-02 00:00:00</td>\n",
       "      <td>2.384000e+06</td>\n",
       "      <td>5.0</td>\n",
       "      <td>2.50</td>\n",
       "      <td>3650</td>\n",
       "      <td>9050</td>\n",
       "      <td>2.0</td>\n",
       "      <td>0</td>\n",
       "      <td>4</td>\n",
       "      <td>5</td>\n",
       "      <td>3370</td>\n",
       "      <td>280</td>\n",
       "      <td>1921</td>\n",
       "      <td>0</td>\n",
       "      <td>709 W Blaine St</td>\n",
       "      <td>Seattle</td>\n",
       "      <td>WA 98119</td>\n",
       "      <td>USA</td>\n",
       "      <td>2.027000e+06</td>\n",
       "      <td>14.522068</td>\n",
       "    </tr>\n",
       "    <tr>\n",
       "      <th>2</th>\n",
       "      <td>2014-05-02 00:00:00</td>\n",
       "      <td>3.420000e+05</td>\n",
       "      <td>3.0</td>\n",
       "      <td>2.00</td>\n",
       "      <td>1930</td>\n",
       "      <td>11947</td>\n",
       "      <td>1.0</td>\n",
       "      <td>0</td>\n",
       "      <td>0</td>\n",
       "      <td>4</td>\n",
       "      <td>1930</td>\n",
       "      <td>0</td>\n",
       "      <td>1966</td>\n",
       "      <td>0</td>\n",
       "      <td>26206-26214 143rd Ave SE</td>\n",
       "      <td>Kent</td>\n",
       "      <td>WA 98042</td>\n",
       "      <td>USA</td>\n",
       "      <td>3.420000e+05</td>\n",
       "      <td>12.742569</td>\n",
       "    </tr>\n",
       "    <tr>\n",
       "      <th>3</th>\n",
       "      <td>2014-05-02 00:00:00</td>\n",
       "      <td>4.200000e+05</td>\n",
       "      <td>3.0</td>\n",
       "      <td>2.25</td>\n",
       "      <td>2000</td>\n",
       "      <td>8030</td>\n",
       "      <td>1.0</td>\n",
       "      <td>0</td>\n",
       "      <td>0</td>\n",
       "      <td>4</td>\n",
       "      <td>1000</td>\n",
       "      <td>1000</td>\n",
       "      <td>1963</td>\n",
       "      <td>0</td>\n",
       "      <td>857 170th Pl NE</td>\n",
       "      <td>Bellevue</td>\n",
       "      <td>WA 98008</td>\n",
       "      <td>USA</td>\n",
       "      <td>4.200000e+05</td>\n",
       "      <td>12.948012</td>\n",
       "    </tr>\n",
       "    <tr>\n",
       "      <th>4</th>\n",
       "      <td>2014-05-02 00:00:00</td>\n",
       "      <td>5.500000e+05</td>\n",
       "      <td>4.0</td>\n",
       "      <td>2.50</td>\n",
       "      <td>1940</td>\n",
       "      <td>10500</td>\n",
       "      <td>1.0</td>\n",
       "      <td>0</td>\n",
       "      <td>0</td>\n",
       "      <td>4</td>\n",
       "      <td>1140</td>\n",
       "      <td>800</td>\n",
       "      <td>1976</td>\n",
       "      <td>1992</td>\n",
       "      <td>9105 170th Ave NE</td>\n",
       "      <td>Redmond</td>\n",
       "      <td>WA 98052</td>\n",
       "      <td>USA</td>\n",
       "      <td>5.500000e+05</td>\n",
       "      <td>13.217675</td>\n",
       "    </tr>\n",
       "    <tr>\n",
       "      <th>...</th>\n",
       "      <td>...</td>\n",
       "      <td>...</td>\n",
       "      <td>...</td>\n",
       "      <td>...</td>\n",
       "      <td>...</td>\n",
       "      <td>...</td>\n",
       "      <td>...</td>\n",
       "      <td>...</td>\n",
       "      <td>...</td>\n",
       "      <td>...</td>\n",
       "      <td>...</td>\n",
       "      <td>...</td>\n",
       "      <td>...</td>\n",
       "      <td>...</td>\n",
       "      <td>...</td>\n",
       "      <td>...</td>\n",
       "      <td>...</td>\n",
       "      <td>...</td>\n",
       "      <td>...</td>\n",
       "      <td>...</td>\n",
       "    </tr>\n",
       "    <tr>\n",
       "      <th>4595</th>\n",
       "      <td>2014-07-09 00:00:00</td>\n",
       "      <td>3.081667e+05</td>\n",
       "      <td>3.0</td>\n",
       "      <td>1.75</td>\n",
       "      <td>1510</td>\n",
       "      <td>6360</td>\n",
       "      <td>1.0</td>\n",
       "      <td>0</td>\n",
       "      <td>0</td>\n",
       "      <td>4</td>\n",
       "      <td>1510</td>\n",
       "      <td>0</td>\n",
       "      <td>1954</td>\n",
       "      <td>1979</td>\n",
       "      <td>501 N 143rd St</td>\n",
       "      <td>Seattle</td>\n",
       "      <td>WA 98133</td>\n",
       "      <td>USA</td>\n",
       "      <td>3.081667e+05</td>\n",
       "      <td>12.638399</td>\n",
       "    </tr>\n",
       "    <tr>\n",
       "      <th>4596</th>\n",
       "      <td>2014-07-09 00:00:00</td>\n",
       "      <td>5.343333e+05</td>\n",
       "      <td>3.0</td>\n",
       "      <td>2.50</td>\n",
       "      <td>1460</td>\n",
       "      <td>7573</td>\n",
       "      <td>2.0</td>\n",
       "      <td>0</td>\n",
       "      <td>0</td>\n",
       "      <td>3</td>\n",
       "      <td>1460</td>\n",
       "      <td>0</td>\n",
       "      <td>1983</td>\n",
       "      <td>2009</td>\n",
       "      <td>14855 SE 10th Pl</td>\n",
       "      <td>Bellevue</td>\n",
       "      <td>WA 98007</td>\n",
       "      <td>USA</td>\n",
       "      <td>5.343333e+05</td>\n",
       "      <td>13.188777</td>\n",
       "    </tr>\n",
       "    <tr>\n",
       "      <th>4597</th>\n",
       "      <td>2014-07-09 00:00:00</td>\n",
       "      <td>4.169042e+05</td>\n",
       "      <td>3.0</td>\n",
       "      <td>2.50</td>\n",
       "      <td>3010</td>\n",
       "      <td>7014</td>\n",
       "      <td>2.0</td>\n",
       "      <td>0</td>\n",
       "      <td>0</td>\n",
       "      <td>3</td>\n",
       "      <td>3010</td>\n",
       "      <td>0</td>\n",
       "      <td>2009</td>\n",
       "      <td>0</td>\n",
       "      <td>759 Ilwaco Pl NE</td>\n",
       "      <td>Renton</td>\n",
       "      <td>WA 98059</td>\n",
       "      <td>USA</td>\n",
       "      <td>4.169042e+05</td>\n",
       "      <td>12.940614</td>\n",
       "    </tr>\n",
       "    <tr>\n",
       "      <th>4598</th>\n",
       "      <td>2014-07-10 00:00:00</td>\n",
       "      <td>2.034000e+05</td>\n",
       "      <td>4.0</td>\n",
       "      <td>2.00</td>\n",
       "      <td>2090</td>\n",
       "      <td>6630</td>\n",
       "      <td>1.0</td>\n",
       "      <td>0</td>\n",
       "      <td>0</td>\n",
       "      <td>3</td>\n",
       "      <td>1070</td>\n",
       "      <td>1020</td>\n",
       "      <td>1974</td>\n",
       "      <td>0</td>\n",
       "      <td>5148 S Creston St</td>\n",
       "      <td>Seattle</td>\n",
       "      <td>WA 98178</td>\n",
       "      <td>USA</td>\n",
       "      <td>2.034000e+05</td>\n",
       "      <td>12.222935</td>\n",
       "    </tr>\n",
       "    <tr>\n",
       "      <th>4599</th>\n",
       "      <td>2014-07-10 00:00:00</td>\n",
       "      <td>2.206000e+05</td>\n",
       "      <td>3.0</td>\n",
       "      <td>2.50</td>\n",
       "      <td>1490</td>\n",
       "      <td>8102</td>\n",
       "      <td>2.0</td>\n",
       "      <td>0</td>\n",
       "      <td>0</td>\n",
       "      <td>4</td>\n",
       "      <td>1490</td>\n",
       "      <td>0</td>\n",
       "      <td>1990</td>\n",
       "      <td>0</td>\n",
       "      <td>18717 SE 258th St</td>\n",
       "      <td>Covington</td>\n",
       "      <td>WA 98042</td>\n",
       "      <td>USA</td>\n",
       "      <td>2.206000e+05</td>\n",
       "      <td>12.304111</td>\n",
       "    </tr>\n",
       "  </tbody>\n",
       "</table>\n",
       "<p>4551 rows × 20 columns</p>\n",
       "</div>"
      ],
      "text/plain": [
       "                     date         price  bedrooms  bathrooms  sqft_living  \\\n",
       "0     2014-05-02 00:00:00  3.130000e+05       3.0       1.50         1340   \n",
       "1     2014-05-02 00:00:00  2.384000e+06       5.0       2.50         3650   \n",
       "2     2014-05-02 00:00:00  3.420000e+05       3.0       2.00         1930   \n",
       "3     2014-05-02 00:00:00  4.200000e+05       3.0       2.25         2000   \n",
       "4     2014-05-02 00:00:00  5.500000e+05       4.0       2.50         1940   \n",
       "...                   ...           ...       ...        ...          ...   \n",
       "4595  2014-07-09 00:00:00  3.081667e+05       3.0       1.75         1510   \n",
       "4596  2014-07-09 00:00:00  5.343333e+05       3.0       2.50         1460   \n",
       "4597  2014-07-09 00:00:00  4.169042e+05       3.0       2.50         3010   \n",
       "4598  2014-07-10 00:00:00  2.034000e+05       4.0       2.00         2090   \n",
       "4599  2014-07-10 00:00:00  2.206000e+05       3.0       2.50         1490   \n",
       "\n",
       "      sqft_lot  floors  waterfront  view  condition  sqft_above  \\\n",
       "0         7912     1.5           0     0          3        1340   \n",
       "1         9050     2.0           0     4          5        3370   \n",
       "2        11947     1.0           0     0          4        1930   \n",
       "3         8030     1.0           0     0          4        1000   \n",
       "4        10500     1.0           0     0          4        1140   \n",
       "...        ...     ...         ...   ...        ...         ...   \n",
       "4595      6360     1.0           0     0          4        1510   \n",
       "4596      7573     2.0           0     0          3        1460   \n",
       "4597      7014     2.0           0     0          3        3010   \n",
       "4598      6630     1.0           0     0          3        1070   \n",
       "4599      8102     2.0           0     0          4        1490   \n",
       "\n",
       "      sqft_basement  yr_built  yr_renovated                    street  \\\n",
       "0                 0      1955          2005      18810 Densmore Ave N   \n",
       "1               280      1921             0           709 W Blaine St   \n",
       "2                 0      1966             0  26206-26214 143rd Ave SE   \n",
       "3              1000      1963             0           857 170th Pl NE   \n",
       "4               800      1976          1992         9105 170th Ave NE   \n",
       "...             ...       ...           ...                       ...   \n",
       "4595              0      1954          1979            501 N 143rd St   \n",
       "4596              0      1983          2009          14855 SE 10th Pl   \n",
       "4597              0      2009             0          759 Ilwaco Pl NE   \n",
       "4598           1020      1974             0         5148 S Creston St   \n",
       "4599              0      1990             0         18717 SE 258th St   \n",
       "\n",
       "           city  statezip country     new_price  new_price_log  \n",
       "0     Shoreline  WA 98133     USA  3.130000e+05      12.653962  \n",
       "1       Seattle  WA 98119     USA  2.027000e+06      14.522068  \n",
       "2          Kent  WA 98042     USA  3.420000e+05      12.742569  \n",
       "3      Bellevue  WA 98008     USA  4.200000e+05      12.948012  \n",
       "4       Redmond  WA 98052     USA  5.500000e+05      13.217675  \n",
       "...         ...       ...     ...           ...            ...  \n",
       "4595    Seattle  WA 98133     USA  3.081667e+05      12.638399  \n",
       "4596   Bellevue  WA 98007     USA  5.343333e+05      13.188777  \n",
       "4597     Renton  WA 98059     USA  4.169042e+05      12.940614  \n",
       "4598    Seattle  WA 98178     USA  2.034000e+05      12.222935  \n",
       "4599  Covington  WA 98042     USA  2.206000e+05      12.304111  \n",
       "\n",
       "[4551 rows x 20 columns]"
      ]
     },
     "execution_count": 17,
     "metadata": {},
     "output_type": "execute_result"
    }
   ],
   "source": [
    "def log_transformation(df, cols):\n",
    "  df[f\"{cols}_log\"] = np.log1p(df[cols])\n",
    "  print(f\"Skewness after transformation: {df[f'{cols}_log'].skew()}\")\n",
    "  return df\n",
    "\n",
    "log_transformation(df, 'new_price')\n",
    "# before capping -> skew : 0.3299944486716577 -> significant decrease in skewness"
   ]
  },
  {
   "cell_type": "markdown",
   "id": "3dfdb18b",
   "metadata": {
    "id": "Y8RInO4OkPaU",
    "papermill": {
     "duration": 0.01431,
     "end_time": "2025-04-21T06:32:18.062423",
     "exception": false,
     "start_time": "2025-04-21T06:32:18.048113",
     "status": "completed"
    },
    "tags": []
   },
   "source": [
    "Yes! Now your **skew is ~0**, previously extreme prices dominated the model, now prices are evenly spreaded and making feature relationships clearer. Also, if new high-priced houses appear, their impact will be controlled by **log-scaling.**"
   ]
  },
  {
   "cell_type": "markdown",
   "id": "c6c83dbb",
   "metadata": {
    "id": "UuJFHvm7kPaU",
    "papermill": {
     "duration": 0.014181,
     "end_time": "2025-04-21T06:32:18.092986",
     "exception": false,
     "start_time": "2025-04-21T06:32:18.078805",
     "status": "completed"
    },
    "tags": []
   },
   "source": [
    "# **4. Feature Engineering** <a id=\"feature-engineering\"></a>"
   ]
  },
  {
   "cell_type": "markdown",
   "id": "112c7c5b",
   "metadata": {
    "id": "ya2ARuMmkPaU",
    "papermill": {
     "duration": 0.014408,
     "end_time": "2025-04-21T06:32:18.121803",
     "exception": false,
     "start_time": "2025-04-21T06:32:18.107395",
     "status": "completed"
    },
    "tags": []
   },
   "source": [
    "**4.1 Dropping Unnecessary Columns** <a id=\"dropping-columns\"></a>"
   ]
  },
  {
   "cell_type": "markdown",
   "id": "1cd9e6f4",
   "metadata": {
    "id": "rvE33-GNkPaU",
    "papermill": {
     "duration": 0.014229,
     "end_time": "2025-04-21T06:32:18.150695",
     "exception": false,
     "start_time": "2025-04-21T06:32:18.136466",
     "status": "completed"
    },
    "tags": []
   },
   "source": [
    "This extracts meaningful information from dataset. Steps:\n",
    "1. **Drop unnecessary columns** or perform encoding (one-hot encoding and label encoding)\n",
    "2. Extract new features\n",
    "3. Encode categorical variables\n",
    "4. Handle correlated features"
   ]
  },
  {
   "cell_type": "code",
   "execution_count": 18,
   "id": "b2b5da23",
   "metadata": {
    "execution": {
     "iopub.execute_input": "2025-04-21T06:32:18.181333Z",
     "iopub.status.busy": "2025-04-21T06:32:18.181047Z",
     "iopub.status.idle": "2025-04-21T06:32:18.199851Z",
     "shell.execute_reply": "2025-04-21T06:32:18.198936Z"
    },
    "id": "XsxAkyujkPaU",
    "outputId": "d8d776a5-4415-4e93-9328-db2171cdbc70",
    "papermill": {
     "duration": 0.036079,
     "end_time": "2025-04-21T06:32:18.201402",
     "exception": false,
     "start_time": "2025-04-21T06:32:18.165323",
     "status": "completed"
    },
    "tags": []
   },
   "outputs": [
    {
     "name": "stdout",
     "output_type": "stream",
     "text": [
      "Updated dataset shape: (4551, 14)\n"
     ]
    },
    {
     "data": {
      "text/html": [
       "<div>\n",
       "<style scoped>\n",
       "    .dataframe tbody tr th:only-of-type {\n",
       "        vertical-align: middle;\n",
       "    }\n",
       "\n",
       "    .dataframe tbody tr th {\n",
       "        vertical-align: top;\n",
       "    }\n",
       "\n",
       "    .dataframe thead th {\n",
       "        text-align: right;\n",
       "    }\n",
       "</style>\n",
       "<table border=\"1\" class=\"dataframe\">\n",
       "  <thead>\n",
       "    <tr style=\"text-align: right;\">\n",
       "      <th></th>\n",
       "      <th>date</th>\n",
       "      <th>bedrooms</th>\n",
       "      <th>bathrooms</th>\n",
       "      <th>sqft_living</th>\n",
       "      <th>sqft_lot</th>\n",
       "      <th>floors</th>\n",
       "      <th>waterfront</th>\n",
       "      <th>view</th>\n",
       "      <th>condition</th>\n",
       "      <th>sqft_above</th>\n",
       "      <th>sqft_basement</th>\n",
       "      <th>yr_built</th>\n",
       "      <th>yr_renovated</th>\n",
       "      <th>new_price_log</th>\n",
       "    </tr>\n",
       "  </thead>\n",
       "  <tbody>\n",
       "    <tr>\n",
       "      <th>0</th>\n",
       "      <td>2014-05-02 00:00:00</td>\n",
       "      <td>3.0</td>\n",
       "      <td>1.50</td>\n",
       "      <td>1340</td>\n",
       "      <td>7912</td>\n",
       "      <td>1.5</td>\n",
       "      <td>0</td>\n",
       "      <td>0</td>\n",
       "      <td>3</td>\n",
       "      <td>1340</td>\n",
       "      <td>0</td>\n",
       "      <td>1955</td>\n",
       "      <td>2005</td>\n",
       "      <td>12.653962</td>\n",
       "    </tr>\n",
       "    <tr>\n",
       "      <th>1</th>\n",
       "      <td>2014-05-02 00:00:00</td>\n",
       "      <td>5.0</td>\n",
       "      <td>2.50</td>\n",
       "      <td>3650</td>\n",
       "      <td>9050</td>\n",
       "      <td>2.0</td>\n",
       "      <td>0</td>\n",
       "      <td>4</td>\n",
       "      <td>5</td>\n",
       "      <td>3370</td>\n",
       "      <td>280</td>\n",
       "      <td>1921</td>\n",
       "      <td>0</td>\n",
       "      <td>14.522068</td>\n",
       "    </tr>\n",
       "    <tr>\n",
       "      <th>2</th>\n",
       "      <td>2014-05-02 00:00:00</td>\n",
       "      <td>3.0</td>\n",
       "      <td>2.00</td>\n",
       "      <td>1930</td>\n",
       "      <td>11947</td>\n",
       "      <td>1.0</td>\n",
       "      <td>0</td>\n",
       "      <td>0</td>\n",
       "      <td>4</td>\n",
       "      <td>1930</td>\n",
       "      <td>0</td>\n",
       "      <td>1966</td>\n",
       "      <td>0</td>\n",
       "      <td>12.742569</td>\n",
       "    </tr>\n",
       "    <tr>\n",
       "      <th>3</th>\n",
       "      <td>2014-05-02 00:00:00</td>\n",
       "      <td>3.0</td>\n",
       "      <td>2.25</td>\n",
       "      <td>2000</td>\n",
       "      <td>8030</td>\n",
       "      <td>1.0</td>\n",
       "      <td>0</td>\n",
       "      <td>0</td>\n",
       "      <td>4</td>\n",
       "      <td>1000</td>\n",
       "      <td>1000</td>\n",
       "      <td>1963</td>\n",
       "      <td>0</td>\n",
       "      <td>12.948012</td>\n",
       "    </tr>\n",
       "    <tr>\n",
       "      <th>4</th>\n",
       "      <td>2014-05-02 00:00:00</td>\n",
       "      <td>4.0</td>\n",
       "      <td>2.50</td>\n",
       "      <td>1940</td>\n",
       "      <td>10500</td>\n",
       "      <td>1.0</td>\n",
       "      <td>0</td>\n",
       "      <td>0</td>\n",
       "      <td>4</td>\n",
       "      <td>1140</td>\n",
       "      <td>800</td>\n",
       "      <td>1976</td>\n",
       "      <td>1992</td>\n",
       "      <td>13.217675</td>\n",
       "    </tr>\n",
       "    <tr>\n",
       "      <th>...</th>\n",
       "      <td>...</td>\n",
       "      <td>...</td>\n",
       "      <td>...</td>\n",
       "      <td>...</td>\n",
       "      <td>...</td>\n",
       "      <td>...</td>\n",
       "      <td>...</td>\n",
       "      <td>...</td>\n",
       "      <td>...</td>\n",
       "      <td>...</td>\n",
       "      <td>...</td>\n",
       "      <td>...</td>\n",
       "      <td>...</td>\n",
       "      <td>...</td>\n",
       "    </tr>\n",
       "    <tr>\n",
       "      <th>4595</th>\n",
       "      <td>2014-07-09 00:00:00</td>\n",
       "      <td>3.0</td>\n",
       "      <td>1.75</td>\n",
       "      <td>1510</td>\n",
       "      <td>6360</td>\n",
       "      <td>1.0</td>\n",
       "      <td>0</td>\n",
       "      <td>0</td>\n",
       "      <td>4</td>\n",
       "      <td>1510</td>\n",
       "      <td>0</td>\n",
       "      <td>1954</td>\n",
       "      <td>1979</td>\n",
       "      <td>12.638399</td>\n",
       "    </tr>\n",
       "    <tr>\n",
       "      <th>4596</th>\n",
       "      <td>2014-07-09 00:00:00</td>\n",
       "      <td>3.0</td>\n",
       "      <td>2.50</td>\n",
       "      <td>1460</td>\n",
       "      <td>7573</td>\n",
       "      <td>2.0</td>\n",
       "      <td>0</td>\n",
       "      <td>0</td>\n",
       "      <td>3</td>\n",
       "      <td>1460</td>\n",
       "      <td>0</td>\n",
       "      <td>1983</td>\n",
       "      <td>2009</td>\n",
       "      <td>13.188777</td>\n",
       "    </tr>\n",
       "    <tr>\n",
       "      <th>4597</th>\n",
       "      <td>2014-07-09 00:00:00</td>\n",
       "      <td>3.0</td>\n",
       "      <td>2.50</td>\n",
       "      <td>3010</td>\n",
       "      <td>7014</td>\n",
       "      <td>2.0</td>\n",
       "      <td>0</td>\n",
       "      <td>0</td>\n",
       "      <td>3</td>\n",
       "      <td>3010</td>\n",
       "      <td>0</td>\n",
       "      <td>2009</td>\n",
       "      <td>0</td>\n",
       "      <td>12.940614</td>\n",
       "    </tr>\n",
       "    <tr>\n",
       "      <th>4598</th>\n",
       "      <td>2014-07-10 00:00:00</td>\n",
       "      <td>4.0</td>\n",
       "      <td>2.00</td>\n",
       "      <td>2090</td>\n",
       "      <td>6630</td>\n",
       "      <td>1.0</td>\n",
       "      <td>0</td>\n",
       "      <td>0</td>\n",
       "      <td>3</td>\n",
       "      <td>1070</td>\n",
       "      <td>1020</td>\n",
       "      <td>1974</td>\n",
       "      <td>0</td>\n",
       "      <td>12.222935</td>\n",
       "    </tr>\n",
       "    <tr>\n",
       "      <th>4599</th>\n",
       "      <td>2014-07-10 00:00:00</td>\n",
       "      <td>3.0</td>\n",
       "      <td>2.50</td>\n",
       "      <td>1490</td>\n",
       "      <td>8102</td>\n",
       "      <td>2.0</td>\n",
       "      <td>0</td>\n",
       "      <td>0</td>\n",
       "      <td>4</td>\n",
       "      <td>1490</td>\n",
       "      <td>0</td>\n",
       "      <td>1990</td>\n",
       "      <td>0</td>\n",
       "      <td>12.304111</td>\n",
       "    </tr>\n",
       "  </tbody>\n",
       "</table>\n",
       "<p>4551 rows × 14 columns</p>\n",
       "</div>"
      ],
      "text/plain": [
       "                     date  bedrooms  bathrooms  sqft_living  sqft_lot  floors  \\\n",
       "0     2014-05-02 00:00:00       3.0       1.50         1340      7912     1.5   \n",
       "1     2014-05-02 00:00:00       5.0       2.50         3650      9050     2.0   \n",
       "2     2014-05-02 00:00:00       3.0       2.00         1930     11947     1.0   \n",
       "3     2014-05-02 00:00:00       3.0       2.25         2000      8030     1.0   \n",
       "4     2014-05-02 00:00:00       4.0       2.50         1940     10500     1.0   \n",
       "...                   ...       ...        ...          ...       ...     ...   \n",
       "4595  2014-07-09 00:00:00       3.0       1.75         1510      6360     1.0   \n",
       "4596  2014-07-09 00:00:00       3.0       2.50         1460      7573     2.0   \n",
       "4597  2014-07-09 00:00:00       3.0       2.50         3010      7014     2.0   \n",
       "4598  2014-07-10 00:00:00       4.0       2.00         2090      6630     1.0   \n",
       "4599  2014-07-10 00:00:00       3.0       2.50         1490      8102     2.0   \n",
       "\n",
       "      waterfront  view  condition  sqft_above  sqft_basement  yr_built  \\\n",
       "0              0     0          3        1340              0      1955   \n",
       "1              0     4          5        3370            280      1921   \n",
       "2              0     0          4        1930              0      1966   \n",
       "3              0     0          4        1000           1000      1963   \n",
       "4              0     0          4        1140            800      1976   \n",
       "...          ...   ...        ...         ...            ...       ...   \n",
       "4595           0     0          4        1510              0      1954   \n",
       "4596           0     0          3        1460              0      1983   \n",
       "4597           0     0          3        3010              0      2009   \n",
       "4598           0     0          3        1070           1020      1974   \n",
       "4599           0     0          4        1490              0      1990   \n",
       "\n",
       "      yr_renovated  new_price_log  \n",
       "0             2005      12.653962  \n",
       "1                0      14.522068  \n",
       "2                0      12.742569  \n",
       "3                0      12.948012  \n",
       "4             1992      13.217675  \n",
       "...            ...            ...  \n",
       "4595          1979      12.638399  \n",
       "4596          2009      13.188777  \n",
       "4597             0      12.940614  \n",
       "4598             0      12.222935  \n",
       "4599             0      12.304111  \n",
       "\n",
       "[4551 rows x 14 columns]"
      ]
     },
     "execution_count": 18,
     "metadata": {},
     "output_type": "execute_result"
    }
   ],
   "source": [
    "# dropping due to high cardinality\n",
    "\n",
    "def drop_cols(df,cols):\n",
    "  df.drop(columns = cols, inplace = True)\n",
    "  print('Updated dataset shape:', df.shape)\n",
    "  return df\n",
    "\n",
    "drop_cols(df, ['street', 'city', 'statezip', 'country', 'price', 'new_price'])"
   ]
  },
  {
   "cell_type": "markdown",
   "id": "be90181d",
   "metadata": {
    "id": "0L4zSpZZkPaV",
    "papermill": {
     "duration": 0.014698,
     "end_time": "2025-04-21T06:32:18.231389",
     "exception": false,
     "start_time": "2025-04-21T06:32:18.216691",
     "status": "completed"
    },
    "tags": []
   },
   "source": [
    "**4.2 Extracting New Features** <a id=\"extracting-features\"></a>"
   ]
  },
  {
   "cell_type": "code",
   "execution_count": 19,
   "id": "53c67032",
   "metadata": {
    "execution": {
     "iopub.execute_input": "2025-04-21T06:32:18.263223Z",
     "iopub.status.busy": "2025-04-21T06:32:18.262920Z",
     "iopub.status.idle": "2025-04-21T06:32:18.281986Z",
     "shell.execute_reply": "2025-04-21T06:32:18.281188Z"
    },
    "id": "n0avX8CQkPaV",
    "outputId": "5d542882-eb1d-4e00-a359-68db4d821fc9",
    "papermill": {
     "duration": 0.03643,
     "end_time": "2025-04-21T06:32:18.283222",
     "exception": false,
     "start_time": "2025-04-21T06:32:18.246792",
     "status": "completed"
    },
    "tags": []
   },
   "outputs": [
    {
     "name": "stdout",
     "output_type": "stream",
     "text": [
      "Updated Dataset shape (4551, 14)\n"
     ]
    },
    {
     "data": {
      "text/html": [
       "<div>\n",
       "<style scoped>\n",
       "    .dataframe tbody tr th:only-of-type {\n",
       "        vertical-align: middle;\n",
       "    }\n",
       "\n",
       "    .dataframe tbody tr th {\n",
       "        vertical-align: top;\n",
       "    }\n",
       "\n",
       "    .dataframe thead th {\n",
       "        text-align: right;\n",
       "    }\n",
       "</style>\n",
       "<table border=\"1\" class=\"dataframe\">\n",
       "  <thead>\n",
       "    <tr style=\"text-align: right;\">\n",
       "      <th></th>\n",
       "      <th>date</th>\n",
       "      <th>bedrooms</th>\n",
       "      <th>bathrooms</th>\n",
       "      <th>sqft_living</th>\n",
       "      <th>sqft_lot</th>\n",
       "      <th>floors</th>\n",
       "      <th>waterfront</th>\n",
       "      <th>view</th>\n",
       "      <th>condition</th>\n",
       "      <th>sqft_above</th>\n",
       "      <th>sqft_basement</th>\n",
       "      <th>new_price_log</th>\n",
       "      <th>prop_age</th>\n",
       "      <th>is_renovated</th>\n",
       "    </tr>\n",
       "  </thead>\n",
       "  <tbody>\n",
       "    <tr>\n",
       "      <th>0</th>\n",
       "      <td>2014-05-02 00:00:00</td>\n",
       "      <td>3.0</td>\n",
       "      <td>1.50</td>\n",
       "      <td>1340</td>\n",
       "      <td>7912</td>\n",
       "      <td>1.5</td>\n",
       "      <td>0</td>\n",
       "      <td>0</td>\n",
       "      <td>3</td>\n",
       "      <td>1340</td>\n",
       "      <td>0</td>\n",
       "      <td>12.653962</td>\n",
       "      <td>70</td>\n",
       "      <td>1</td>\n",
       "    </tr>\n",
       "    <tr>\n",
       "      <th>1</th>\n",
       "      <td>2014-05-02 00:00:00</td>\n",
       "      <td>5.0</td>\n",
       "      <td>2.50</td>\n",
       "      <td>3650</td>\n",
       "      <td>9050</td>\n",
       "      <td>2.0</td>\n",
       "      <td>0</td>\n",
       "      <td>4</td>\n",
       "      <td>5</td>\n",
       "      <td>3370</td>\n",
       "      <td>280</td>\n",
       "      <td>14.522068</td>\n",
       "      <td>104</td>\n",
       "      <td>0</td>\n",
       "    </tr>\n",
       "    <tr>\n",
       "      <th>2</th>\n",
       "      <td>2014-05-02 00:00:00</td>\n",
       "      <td>3.0</td>\n",
       "      <td>2.00</td>\n",
       "      <td>1930</td>\n",
       "      <td>11947</td>\n",
       "      <td>1.0</td>\n",
       "      <td>0</td>\n",
       "      <td>0</td>\n",
       "      <td>4</td>\n",
       "      <td>1930</td>\n",
       "      <td>0</td>\n",
       "      <td>12.742569</td>\n",
       "      <td>59</td>\n",
       "      <td>0</td>\n",
       "    </tr>\n",
       "    <tr>\n",
       "      <th>3</th>\n",
       "      <td>2014-05-02 00:00:00</td>\n",
       "      <td>3.0</td>\n",
       "      <td>2.25</td>\n",
       "      <td>2000</td>\n",
       "      <td>8030</td>\n",
       "      <td>1.0</td>\n",
       "      <td>0</td>\n",
       "      <td>0</td>\n",
       "      <td>4</td>\n",
       "      <td>1000</td>\n",
       "      <td>1000</td>\n",
       "      <td>12.948012</td>\n",
       "      <td>62</td>\n",
       "      <td>0</td>\n",
       "    </tr>\n",
       "    <tr>\n",
       "      <th>4</th>\n",
       "      <td>2014-05-02 00:00:00</td>\n",
       "      <td>4.0</td>\n",
       "      <td>2.50</td>\n",
       "      <td>1940</td>\n",
       "      <td>10500</td>\n",
       "      <td>1.0</td>\n",
       "      <td>0</td>\n",
       "      <td>0</td>\n",
       "      <td>4</td>\n",
       "      <td>1140</td>\n",
       "      <td>800</td>\n",
       "      <td>13.217675</td>\n",
       "      <td>49</td>\n",
       "      <td>1</td>\n",
       "    </tr>\n",
       "    <tr>\n",
       "      <th>...</th>\n",
       "      <td>...</td>\n",
       "      <td>...</td>\n",
       "      <td>...</td>\n",
       "      <td>...</td>\n",
       "      <td>...</td>\n",
       "      <td>...</td>\n",
       "      <td>...</td>\n",
       "      <td>...</td>\n",
       "      <td>...</td>\n",
       "      <td>...</td>\n",
       "      <td>...</td>\n",
       "      <td>...</td>\n",
       "      <td>...</td>\n",
       "      <td>...</td>\n",
       "    </tr>\n",
       "    <tr>\n",
       "      <th>4595</th>\n",
       "      <td>2014-07-09 00:00:00</td>\n",
       "      <td>3.0</td>\n",
       "      <td>1.75</td>\n",
       "      <td>1510</td>\n",
       "      <td>6360</td>\n",
       "      <td>1.0</td>\n",
       "      <td>0</td>\n",
       "      <td>0</td>\n",
       "      <td>4</td>\n",
       "      <td>1510</td>\n",
       "      <td>0</td>\n",
       "      <td>12.638399</td>\n",
       "      <td>71</td>\n",
       "      <td>1</td>\n",
       "    </tr>\n",
       "    <tr>\n",
       "      <th>4596</th>\n",
       "      <td>2014-07-09 00:00:00</td>\n",
       "      <td>3.0</td>\n",
       "      <td>2.50</td>\n",
       "      <td>1460</td>\n",
       "      <td>7573</td>\n",
       "      <td>2.0</td>\n",
       "      <td>0</td>\n",
       "      <td>0</td>\n",
       "      <td>3</td>\n",
       "      <td>1460</td>\n",
       "      <td>0</td>\n",
       "      <td>13.188777</td>\n",
       "      <td>42</td>\n",
       "      <td>1</td>\n",
       "    </tr>\n",
       "    <tr>\n",
       "      <th>4597</th>\n",
       "      <td>2014-07-09 00:00:00</td>\n",
       "      <td>3.0</td>\n",
       "      <td>2.50</td>\n",
       "      <td>3010</td>\n",
       "      <td>7014</td>\n",
       "      <td>2.0</td>\n",
       "      <td>0</td>\n",
       "      <td>0</td>\n",
       "      <td>3</td>\n",
       "      <td>3010</td>\n",
       "      <td>0</td>\n",
       "      <td>12.940614</td>\n",
       "      <td>16</td>\n",
       "      <td>0</td>\n",
       "    </tr>\n",
       "    <tr>\n",
       "      <th>4598</th>\n",
       "      <td>2014-07-10 00:00:00</td>\n",
       "      <td>4.0</td>\n",
       "      <td>2.00</td>\n",
       "      <td>2090</td>\n",
       "      <td>6630</td>\n",
       "      <td>1.0</td>\n",
       "      <td>0</td>\n",
       "      <td>0</td>\n",
       "      <td>3</td>\n",
       "      <td>1070</td>\n",
       "      <td>1020</td>\n",
       "      <td>12.222935</td>\n",
       "      <td>51</td>\n",
       "      <td>0</td>\n",
       "    </tr>\n",
       "    <tr>\n",
       "      <th>4599</th>\n",
       "      <td>2014-07-10 00:00:00</td>\n",
       "      <td>3.0</td>\n",
       "      <td>2.50</td>\n",
       "      <td>1490</td>\n",
       "      <td>8102</td>\n",
       "      <td>2.0</td>\n",
       "      <td>0</td>\n",
       "      <td>0</td>\n",
       "      <td>4</td>\n",
       "      <td>1490</td>\n",
       "      <td>0</td>\n",
       "      <td>12.304111</td>\n",
       "      <td>35</td>\n",
       "      <td>0</td>\n",
       "    </tr>\n",
       "  </tbody>\n",
       "</table>\n",
       "<p>4551 rows × 14 columns</p>\n",
       "</div>"
      ],
      "text/plain": [
       "                     date  bedrooms  bathrooms  sqft_living  sqft_lot  floors  \\\n",
       "0     2014-05-02 00:00:00       3.0       1.50         1340      7912     1.5   \n",
       "1     2014-05-02 00:00:00       5.0       2.50         3650      9050     2.0   \n",
       "2     2014-05-02 00:00:00       3.0       2.00         1930     11947     1.0   \n",
       "3     2014-05-02 00:00:00       3.0       2.25         2000      8030     1.0   \n",
       "4     2014-05-02 00:00:00       4.0       2.50         1940     10500     1.0   \n",
       "...                   ...       ...        ...          ...       ...     ...   \n",
       "4595  2014-07-09 00:00:00       3.0       1.75         1510      6360     1.0   \n",
       "4596  2014-07-09 00:00:00       3.0       2.50         1460      7573     2.0   \n",
       "4597  2014-07-09 00:00:00       3.0       2.50         3010      7014     2.0   \n",
       "4598  2014-07-10 00:00:00       4.0       2.00         2090      6630     1.0   \n",
       "4599  2014-07-10 00:00:00       3.0       2.50         1490      8102     2.0   \n",
       "\n",
       "      waterfront  view  condition  sqft_above  sqft_basement  new_price_log  \\\n",
       "0              0     0          3        1340              0      12.653962   \n",
       "1              0     4          5        3370            280      14.522068   \n",
       "2              0     0          4        1930              0      12.742569   \n",
       "3              0     0          4        1000           1000      12.948012   \n",
       "4              0     0          4        1140            800      13.217675   \n",
       "...          ...   ...        ...         ...            ...            ...   \n",
       "4595           0     0          4        1510              0      12.638399   \n",
       "4596           0     0          3        1460              0      13.188777   \n",
       "4597           0     0          3        3010              0      12.940614   \n",
       "4598           0     0          3        1070           1020      12.222935   \n",
       "4599           0     0          4        1490              0      12.304111   \n",
       "\n",
       "      prop_age  is_renovated  \n",
       "0           70             1  \n",
       "1          104             0  \n",
       "2           59             0  \n",
       "3           62             0  \n",
       "4           49             1  \n",
       "...        ...           ...  \n",
       "4595        71             1  \n",
       "4596        42             1  \n",
       "4597        16             0  \n",
       "4598        51             0  \n",
       "4599        35             0  \n",
       "\n",
       "[4551 rows x 14 columns]"
      ]
     },
     "execution_count": 19,
     "metadata": {},
     "output_type": "execute_result"
    }
   ],
   "source": [
    "# yr_built + yr_reonvated -> prop_age\n",
    "\n",
    "from datetime import datetime\n",
    "\n",
    "def cal_age(df):\n",
    "  df['prop_age'] = datetime.now().year - df['yr_built']\n",
    "  df['is_renovated'] = (df['yr_renovated'] > 0).astype(int)\n",
    "  df.drop(columns = ['yr_built', 'yr_renovated'], inplace = True)\n",
    "  print('Updated Dataset shape', df.shape)\n",
    "  return df\n",
    "\n",
    "cal_age(df)"
   ]
  },
  {
   "cell_type": "code",
   "execution_count": 20,
   "id": "87129043",
   "metadata": {
    "execution": {
     "iopub.execute_input": "2025-04-21T06:32:18.315727Z",
     "iopub.status.busy": "2025-04-21T06:32:18.315406Z",
     "iopub.status.idle": "2025-04-21T06:32:18.341056Z",
     "shell.execute_reply": "2025-04-21T06:32:18.340099Z"
    },
    "id": "_ai8s1KlYV-B",
    "outputId": "5baeec4a-9347-4831-a17f-587625be2f8f",
    "papermill": {
     "duration": 0.044002,
     "end_time": "2025-04-21T06:32:18.342543",
     "exception": false,
     "start_time": "2025-04-21T06:32:18.298541",
     "status": "completed"
    },
    "tags": []
   },
   "outputs": [
    {
     "data": {
      "text/html": [
       "<div>\n",
       "<style scoped>\n",
       "    .dataframe tbody tr th:only-of-type {\n",
       "        vertical-align: middle;\n",
       "    }\n",
       "\n",
       "    .dataframe tbody tr th {\n",
       "        vertical-align: top;\n",
       "    }\n",
       "\n",
       "    .dataframe thead th {\n",
       "        text-align: right;\n",
       "    }\n",
       "</style>\n",
       "<table border=\"1\" class=\"dataframe\">\n",
       "  <thead>\n",
       "    <tr style=\"text-align: right;\">\n",
       "      <th></th>\n",
       "      <th>bedrooms</th>\n",
       "      <th>bathrooms</th>\n",
       "      <th>sqft_living</th>\n",
       "      <th>sqft_lot</th>\n",
       "      <th>floors</th>\n",
       "      <th>waterfront</th>\n",
       "      <th>view</th>\n",
       "      <th>condition</th>\n",
       "      <th>sqft_above</th>\n",
       "      <th>sqft_basement</th>\n",
       "      <th>new_price_log</th>\n",
       "      <th>prop_age</th>\n",
       "      <th>is_renovated</th>\n",
       "      <th>year_sold</th>\n",
       "      <th>month_sold</th>\n",
       "    </tr>\n",
       "  </thead>\n",
       "  <tbody>\n",
       "    <tr>\n",
       "      <th>0</th>\n",
       "      <td>3.0</td>\n",
       "      <td>1.50</td>\n",
       "      <td>1340</td>\n",
       "      <td>7912</td>\n",
       "      <td>1.5</td>\n",
       "      <td>0</td>\n",
       "      <td>0</td>\n",
       "      <td>3</td>\n",
       "      <td>1340</td>\n",
       "      <td>0</td>\n",
       "      <td>12.653962</td>\n",
       "      <td>70</td>\n",
       "      <td>1</td>\n",
       "      <td>2014</td>\n",
       "      <td>5</td>\n",
       "    </tr>\n",
       "    <tr>\n",
       "      <th>1</th>\n",
       "      <td>5.0</td>\n",
       "      <td>2.50</td>\n",
       "      <td>3650</td>\n",
       "      <td>9050</td>\n",
       "      <td>2.0</td>\n",
       "      <td>0</td>\n",
       "      <td>4</td>\n",
       "      <td>5</td>\n",
       "      <td>3370</td>\n",
       "      <td>280</td>\n",
       "      <td>14.522068</td>\n",
       "      <td>104</td>\n",
       "      <td>0</td>\n",
       "      <td>2014</td>\n",
       "      <td>5</td>\n",
       "    </tr>\n",
       "    <tr>\n",
       "      <th>2</th>\n",
       "      <td>3.0</td>\n",
       "      <td>2.00</td>\n",
       "      <td>1930</td>\n",
       "      <td>11947</td>\n",
       "      <td>1.0</td>\n",
       "      <td>0</td>\n",
       "      <td>0</td>\n",
       "      <td>4</td>\n",
       "      <td>1930</td>\n",
       "      <td>0</td>\n",
       "      <td>12.742569</td>\n",
       "      <td>59</td>\n",
       "      <td>0</td>\n",
       "      <td>2014</td>\n",
       "      <td>5</td>\n",
       "    </tr>\n",
       "    <tr>\n",
       "      <th>3</th>\n",
       "      <td>3.0</td>\n",
       "      <td>2.25</td>\n",
       "      <td>2000</td>\n",
       "      <td>8030</td>\n",
       "      <td>1.0</td>\n",
       "      <td>0</td>\n",
       "      <td>0</td>\n",
       "      <td>4</td>\n",
       "      <td>1000</td>\n",
       "      <td>1000</td>\n",
       "      <td>12.948012</td>\n",
       "      <td>62</td>\n",
       "      <td>0</td>\n",
       "      <td>2014</td>\n",
       "      <td>5</td>\n",
       "    </tr>\n",
       "    <tr>\n",
       "      <th>4</th>\n",
       "      <td>4.0</td>\n",
       "      <td>2.50</td>\n",
       "      <td>1940</td>\n",
       "      <td>10500</td>\n",
       "      <td>1.0</td>\n",
       "      <td>0</td>\n",
       "      <td>0</td>\n",
       "      <td>4</td>\n",
       "      <td>1140</td>\n",
       "      <td>800</td>\n",
       "      <td>13.217675</td>\n",
       "      <td>49</td>\n",
       "      <td>1</td>\n",
       "      <td>2014</td>\n",
       "      <td>5</td>\n",
       "    </tr>\n",
       "    <tr>\n",
       "      <th>...</th>\n",
       "      <td>...</td>\n",
       "      <td>...</td>\n",
       "      <td>...</td>\n",
       "      <td>...</td>\n",
       "      <td>...</td>\n",
       "      <td>...</td>\n",
       "      <td>...</td>\n",
       "      <td>...</td>\n",
       "      <td>...</td>\n",
       "      <td>...</td>\n",
       "      <td>...</td>\n",
       "      <td>...</td>\n",
       "      <td>...</td>\n",
       "      <td>...</td>\n",
       "      <td>...</td>\n",
       "    </tr>\n",
       "    <tr>\n",
       "      <th>4595</th>\n",
       "      <td>3.0</td>\n",
       "      <td>1.75</td>\n",
       "      <td>1510</td>\n",
       "      <td>6360</td>\n",
       "      <td>1.0</td>\n",
       "      <td>0</td>\n",
       "      <td>0</td>\n",
       "      <td>4</td>\n",
       "      <td>1510</td>\n",
       "      <td>0</td>\n",
       "      <td>12.638399</td>\n",
       "      <td>71</td>\n",
       "      <td>1</td>\n",
       "      <td>2014</td>\n",
       "      <td>7</td>\n",
       "    </tr>\n",
       "    <tr>\n",
       "      <th>4596</th>\n",
       "      <td>3.0</td>\n",
       "      <td>2.50</td>\n",
       "      <td>1460</td>\n",
       "      <td>7573</td>\n",
       "      <td>2.0</td>\n",
       "      <td>0</td>\n",
       "      <td>0</td>\n",
       "      <td>3</td>\n",
       "      <td>1460</td>\n",
       "      <td>0</td>\n",
       "      <td>13.188777</td>\n",
       "      <td>42</td>\n",
       "      <td>1</td>\n",
       "      <td>2014</td>\n",
       "      <td>7</td>\n",
       "    </tr>\n",
       "    <tr>\n",
       "      <th>4597</th>\n",
       "      <td>3.0</td>\n",
       "      <td>2.50</td>\n",
       "      <td>3010</td>\n",
       "      <td>7014</td>\n",
       "      <td>2.0</td>\n",
       "      <td>0</td>\n",
       "      <td>0</td>\n",
       "      <td>3</td>\n",
       "      <td>3010</td>\n",
       "      <td>0</td>\n",
       "      <td>12.940614</td>\n",
       "      <td>16</td>\n",
       "      <td>0</td>\n",
       "      <td>2014</td>\n",
       "      <td>7</td>\n",
       "    </tr>\n",
       "    <tr>\n",
       "      <th>4598</th>\n",
       "      <td>4.0</td>\n",
       "      <td>2.00</td>\n",
       "      <td>2090</td>\n",
       "      <td>6630</td>\n",
       "      <td>1.0</td>\n",
       "      <td>0</td>\n",
       "      <td>0</td>\n",
       "      <td>3</td>\n",
       "      <td>1070</td>\n",
       "      <td>1020</td>\n",
       "      <td>12.222935</td>\n",
       "      <td>51</td>\n",
       "      <td>0</td>\n",
       "      <td>2014</td>\n",
       "      <td>7</td>\n",
       "    </tr>\n",
       "    <tr>\n",
       "      <th>4599</th>\n",
       "      <td>3.0</td>\n",
       "      <td>2.50</td>\n",
       "      <td>1490</td>\n",
       "      <td>8102</td>\n",
       "      <td>2.0</td>\n",
       "      <td>0</td>\n",
       "      <td>0</td>\n",
       "      <td>4</td>\n",
       "      <td>1490</td>\n",
       "      <td>0</td>\n",
       "      <td>12.304111</td>\n",
       "      <td>35</td>\n",
       "      <td>0</td>\n",
       "      <td>2014</td>\n",
       "      <td>7</td>\n",
       "    </tr>\n",
       "  </tbody>\n",
       "</table>\n",
       "<p>4551 rows × 15 columns</p>\n",
       "</div>"
      ],
      "text/plain": [
       "      bedrooms  bathrooms  sqft_living  sqft_lot  floors  waterfront  view  \\\n",
       "0          3.0       1.50         1340      7912     1.5           0     0   \n",
       "1          5.0       2.50         3650      9050     2.0           0     4   \n",
       "2          3.0       2.00         1930     11947     1.0           0     0   \n",
       "3          3.0       2.25         2000      8030     1.0           0     0   \n",
       "4          4.0       2.50         1940     10500     1.0           0     0   \n",
       "...        ...        ...          ...       ...     ...         ...   ...   \n",
       "4595       3.0       1.75         1510      6360     1.0           0     0   \n",
       "4596       3.0       2.50         1460      7573     2.0           0     0   \n",
       "4597       3.0       2.50         3010      7014     2.0           0     0   \n",
       "4598       4.0       2.00         2090      6630     1.0           0     0   \n",
       "4599       3.0       2.50         1490      8102     2.0           0     0   \n",
       "\n",
       "      condition  sqft_above  sqft_basement  new_price_log  prop_age  \\\n",
       "0             3        1340              0      12.653962        70   \n",
       "1             5        3370            280      14.522068       104   \n",
       "2             4        1930              0      12.742569        59   \n",
       "3             4        1000           1000      12.948012        62   \n",
       "4             4        1140            800      13.217675        49   \n",
       "...         ...         ...            ...            ...       ...   \n",
       "4595          4        1510              0      12.638399        71   \n",
       "4596          3        1460              0      13.188777        42   \n",
       "4597          3        3010              0      12.940614        16   \n",
       "4598          3        1070           1020      12.222935        51   \n",
       "4599          4        1490              0      12.304111        35   \n",
       "\n",
       "      is_renovated  year_sold  month_sold  \n",
       "0                1       2014           5  \n",
       "1                0       2014           5  \n",
       "2                0       2014           5  \n",
       "3                0       2014           5  \n",
       "4                1       2014           5  \n",
       "...            ...        ...         ...  \n",
       "4595             1       2014           7  \n",
       "4596             1       2014           7  \n",
       "4597             0       2014           7  \n",
       "4598             0       2014           7  \n",
       "4599             0       2014           7  \n",
       "\n",
       "[4551 rows x 15 columns]"
      ]
     },
     "execution_count": 20,
     "metadata": {},
     "output_type": "execute_result"
    }
   ],
   "source": [
    "def date_extract(df, date_col):\n",
    "  df['year_sold'] = pd.to_datetime(df[date_col]).dt.year\n",
    "  df['month_sold'] = pd.to_datetime(df[date_col]).dt.month\n",
    "  df.drop(date_col, axis=1, inplace=True)\n",
    "  return df\n",
    "\n",
    "date_extract(df, 'date')"
   ]
  },
  {
   "cell_type": "markdown",
   "id": "e12fb0ee",
   "metadata": {
    "id": "BLPL8qyNkPaV",
    "papermill": {
     "duration": 0.015449,
     "end_time": "2025-04-21T06:32:18.373938",
     "exception": false,
     "start_time": "2025-04-21T06:32:18.358489",
     "status": "completed"
    },
    "tags": []
   },
   "source": [
    "**4.3 One-Hot Encoding** <a id=\"one-hot-encoding\"></a>"
   ]
  },
  {
   "cell_type": "markdown",
   "id": "152e0f0c",
   "metadata": {
    "id": "wLmh87j9kPaV",
    "papermill": {
     "duration": 0.015075,
     "end_time": "2025-04-21T06:32:18.405154",
     "exception": false,
     "start_time": "2025-04-21T06:32:18.390079",
     "status": "completed"
    },
    "tags": []
   },
   "source": [
    "Now, we have created new features since we it would be helpful if we know the age of the house but not its built-year. Similarly, if a house is renovated or not will give extra insight (Yes/No). So, converted all these values >0 -> 1 else 0"
   ]
  },
  {
   "cell_type": "markdown",
   "id": "d67963cb",
   "metadata": {
    "id": "sh1JU4s1kPaV",
    "papermill": {
     "duration": 0.015423,
     "end_time": "2025-04-21T06:32:18.436463",
     "exception": false,
     "start_time": "2025-04-21T06:32:18.421040",
     "status": "completed"
    },
    "tags": []
   },
   "source": [
    "**Encoding categorical features**\n",
    "(for Low_cardinality)\n",
    "1. **One-hot encoding: each value converted to a separate col and 1 -> value which is in original data; 0-> value not in origial data**\n",
    "2. Label encoding: assigning unique integer to each category (ordinal)\n",
    "3. Binary encoding: categoris -> binary nos. -> split into seperate columns (high-cardinality)\n",
    "4. Target encoding: replaces categories -> mean of target variable\n",
    "5. Frequency encoding: replaces categories ->frequency in the dataset (high cardinality)\n",
    "6. Hash encoding: uses hash function to convert categories -> fixed no. of columns (high cardinality)\n",
    "7. TF-IDF: NLP"
   ]
  },
  {
   "cell_type": "markdown",
   "id": "03c8ee23",
   "metadata": {
    "id": "Q9dRbWLDW7mx",
    "papermill": {
     "duration": 0.015074,
     "end_time": "2025-04-21T06:32:18.467083",
     "exception": false,
     "start_time": "2025-04-21T06:32:18.452009",
     "status": "completed"
    },
    "tags": []
   },
   "source": [
    "# **6. Hypothesis Testing <a id=\"hypothesis-testing\"></a>**"
   ]
  },
  {
   "cell_type": "markdown",
   "id": "b2c47131",
   "metadata": {
    "id": "Vvc-e2o2_Org",
    "papermill": {
     "duration": 0.015527,
     "end_time": "2025-04-21T06:32:18.498105",
     "exception": false,
     "start_time": "2025-04-21T06:32:18.482578",
     "status": "completed"
    },
    "tags": []
   },
   "source": [
    "**What features (columns) help us best explain the price of a house?**"
   ]
  },
  {
   "cell_type": "code",
   "execution_count": 21,
   "id": "e031a30d",
   "metadata": {
    "execution": {
     "iopub.execute_input": "2025-04-21T06:32:18.531216Z",
     "iopub.status.busy": "2025-04-21T06:32:18.530701Z",
     "iopub.status.idle": "2025-04-21T06:32:19.202785Z",
     "shell.execute_reply": "2025-04-21T06:32:19.201724Z"
    },
    "id": "CmZZzQx7XWTZ",
    "outputId": "121e6064-9e8b-4226-9819-908af5609d94",
    "papermill": {
     "duration": 0.692731,
     "end_time": "2025-04-21T06:32:19.206722",
     "exception": false,
     "start_time": "2025-04-21T06:32:18.513991",
     "status": "completed"
    },
    "tags": []
   },
   "outputs": [
    {
     "data": {
      "image/png": "[encoded data removed]",
      "text/plain": [
       "<Figure size 1000x1000 with 2 Axes>"
      ]
     },
     "metadata": {},
     "output_type": "display_data"
    }
   ],
   "source": [
    "def correlation_map(df):\n",
    "  plt.figure(figsize=(10,10))\n",
    "  sns.heatmap(df.corr(), cmap='coolwarm', annot=True)\n",
    "  plt.title(\"Correlation Heatmap\")\n",
    "  plt.show()\n",
    "correlation_map(df)"
   ]
  },
  {
   "cell_type": "code",
   "execution_count": 22,
   "id": "84d9317e",
   "metadata": {
    "execution": {
     "iopub.execute_input": "2025-04-21T06:32:19.247627Z",
     "iopub.status.busy": "2025-04-21T06:32:19.246859Z",
     "iopub.status.idle": "2025-04-21T06:32:21.160575Z",
     "shell.execute_reply": "2025-04-21T06:32:21.159705Z"
    },
    "id": "ZXsITlMuDlWD",
    "outputId": "10bd1981-8ca1-4fb3-f095-a77424609ddd",
    "papermill": {
     "duration": 1.935637,
     "end_time": "2025-04-21T06:32:21.162069",
     "exception": false,
     "start_time": "2025-04-21T06:32:19.226432",
     "status": "completed"
    },
    "tags": []
   },
   "outputs": [
    {
     "name": "stdout",
     "output_type": "stream",
     "text": [
      "                            OLS Regression Results                            \n",
      "==============================================================================\n",
      "Dep. Variable:          new_price_log   R-squared:                       0.520\n",
      "Model:                            OLS   Adj. R-squared:                  0.519\n",
      "Method:                 Least Squares   F-statistic:                     409.5\n",
      "Date:                Mon, 21 Apr 2025   Prob (F-statistic):               0.00\n",
      "Time:                        06:32:21   Log-Likelihood:                -1904.0\n",
      "No. Observations:                4551   AIC:                             3834.\n",
      "Df Residuals:                    4538   BIC:                             3918.\n",
      "Df Model:                          12                                         \n",
      "Covariance Type:            nonrobust                                         \n",
      "=================================================================================\n",
      "                    coef    std err          t      P>|t|      [0.025      0.975]\n",
      "---------------------------------------------------------------------------------\n",
      "bedrooms         -0.0525      0.008     -6.706      0.000      -0.068      -0.037\n",
      "bathrooms         0.1216      0.013      9.573      0.000       0.097       0.147\n",
      "sqft_living       0.0002   7.25e-06     28.952      0.000       0.000       0.000\n",
      "sqft_lot      -7.144e-07   1.58e-07     -4.536      0.000   -1.02e-06   -4.06e-07\n",
      "floors            0.1490      0.014     10.730      0.000       0.122       0.176\n",
      "waterfront        0.0846      0.072      1.174      0.241      -0.057       0.226\n",
      "view              0.0659      0.008      8.017      0.000       0.050       0.082\n",
      "condition         0.0655      0.010      6.776      0.000       0.047       0.085\n",
      "sqft_above        0.0001   7.26e-06     16.151      0.000       0.000       0.000\n",
      "sqft_basement  9.277e-05   1.02e-05      9.131      0.000    7.29e-05       0.000\n",
      "prop_age          0.0036      0.000     14.252      0.000       0.003       0.004\n",
      "is_renovated      0.0253      0.013      1.982      0.048       0.000       0.050\n",
      "year_sold         0.0058   3.15e-05    182.708      0.000       0.006       0.006\n",
      "month_sold        0.0076      0.008      0.950      0.342      -0.008       0.023\n",
      "==============================================================================\n",
      "Omnibus:                      595.070   Durbin-Watson:                   1.945\n",
      "Prob(Omnibus):                  0.000   Jarque-Bera (JB):             2756.416\n",
      "Skew:                          -0.555   Prob(JB):                         0.00\n",
      "Kurtosis:                       6.647   Cond. No.                     1.17e+17\n",
      "==============================================================================\n",
      "\n",
      "Notes:\n",
      "[1] Standard Errors assume that the covariance matrix of the errors is correctly specified.\n",
      "[2] The smallest eigenvalue is 5.01e-22. This might indicate that there are\n",
      "strong multicollinearity problems or that the design matrix is singular.\n",
      "\n",
      " Significant features (p < 0.05):\n",
      "['bedrooms', 'bathrooms', 'sqft_living', 'sqft_lot', 'floors', 'view', 'condition', 'sqft_above', 'sqft_basement', 'prop_age', 'is_renovated', 'year_sold']\n"
     ]
    }
   ],
   "source": [
    "import statsmodels.api as sm\n",
    "\n",
    "def run_ols_and_get_significant_features(df, target_col='new_price_log'):\n",
    "    X = df.drop(columns=[target_col])\n",
    "    y = df[target_col]\n",
    "\n",
    "    # Add constant for intercept\n",
    "    X_const = sm.add_constant(X)\n",
    "\n",
    "    # Fit the OLS model\n",
    "    model = sm.OLS(y, X_const).fit()\n",
    "    print(model.summary())\n",
    "\n",
    "    # Extract p-values and coefficients\n",
    "    summary_df = model.summary2().tables[1]\n",
    "\n",
    "    # Keep only significant features (p < 0.05)\n",
    "    significant = summary_df[summary_df['P>|t|'] < 0.05]\n",
    "    significant_features = significant.index.tolist()\n",
    "\n",
    "    # Remove constant if present\n",
    "    if 'const' in significant_features:\n",
    "        significant_features.remove('const')\n",
    "\n",
    "    print(\"\\n Significant features (p < 0.05):\")\n",
    "    print(significant_features)\n",
    "\n",
    "    return significant_features, model\n",
    "\n",
    "significant_features, model = run_ols_and_get_significant_features(df)"
   ]
  },
  {
   "cell_type": "markdown",
   "id": "7353c587",
   "metadata": {
    "id": "Ywa7-q77D4uZ",
    "papermill": {
     "duration": 0.019451,
     "end_time": "2025-04-21T06:32:21.200923",
     "exception": false,
     "start_time": "2025-04-21T06:32:21.181472",
     "status": "completed"
    },
    "tags": []
   },
   "source": [
    "**Refit model using only significant features**"
   ]
  },
  {
   "cell_type": "code",
   "execution_count": 23,
   "id": "1f6ea1ba",
   "metadata": {
    "execution": {
     "iopub.execute_input": "2025-04-21T06:32:21.240950Z",
     "iopub.status.busy": "2025-04-21T06:32:21.240028Z",
     "iopub.status.idle": "2025-04-21T06:32:21.264634Z",
     "shell.execute_reply": "2025-04-21T06:32:21.263589Z"
    },
    "id": "uMouA5DcD3Hz",
    "outputId": "56039be9-ea88-4956-a091-feabde505495",
    "papermill": {
     "duration": 0.046149,
     "end_time": "2025-04-21T06:32:21.266216",
     "exception": false,
     "start_time": "2025-04-21T06:32:21.220067",
     "status": "completed"
    },
    "tags": []
   },
   "outputs": [
    {
     "name": "stdout",
     "output_type": "stream",
     "text": [
      "                            OLS Regression Results                            \n",
      "==============================================================================\n",
      "Dep. Variable:          new_price_log   R-squared:                       0.520\n",
      "Model:                            OLS   Adj. R-squared:                  0.519\n",
      "Method:                 Least Squares   F-statistic:                     491.1\n",
      "Date:                Mon, 21 Apr 2025   Prob (F-statistic):               0.00\n",
      "Time:                        06:32:21   Log-Likelihood:                -1905.2\n",
      "No. Observations:                4551   AIC:                             3832.\n",
      "Df Residuals:                    4540   BIC:                             3903.\n",
      "Df Model:                          10                                         \n",
      "Covariance Type:            nonrobust                                         \n",
      "=================================================================================\n",
      "                    coef    std err          t      P>|t|      [0.025      0.975]\n",
      "---------------------------------------------------------------------------------\n",
      "bedrooms         -0.0531      0.008     -6.797      0.000      -0.068      -0.038\n",
      "bathrooms         0.1217      0.013      9.580      0.000       0.097       0.147\n",
      "sqft_living       0.0002   7.25e-06     28.999      0.000       0.000       0.000\n",
      "sqft_lot      -7.218e-07   1.57e-07     -4.585      0.000   -1.03e-06   -4.13e-07\n",
      "floors            0.1491      0.014     10.739      0.000       0.122       0.176\n",
      "view              0.0688      0.008      8.837      0.000       0.054       0.084\n",
      "condition         0.0656      0.010      6.785      0.000       0.047       0.085\n",
      "sqft_above        0.0001   7.25e-06     16.239      0.000       0.000       0.000\n",
      "sqft_basement  9.254e-05   1.02e-05      9.109      0.000    7.26e-05       0.000\n",
      "prop_age          0.0036      0.000     14.291      0.000       0.003       0.004\n",
      "is_renovated      0.0252      0.013      1.974      0.048       0.000       0.050\n",
      "year_sold         0.0058   2.24e-05    257.448      0.000       0.006       0.006\n",
      "==============================================================================\n",
      "Omnibus:                      597.140   Durbin-Watson:                   1.944\n",
      "Prob(Omnibus):                  0.000   Jarque-Bera (JB):             2797.183\n",
      "Skew:                          -0.554   Prob(JB):                         0.00\n",
      "Kurtosis:                       6.677   Cond. No.                     1.16e+17\n",
      "==============================================================================\n",
      "\n",
      "Notes:\n",
      "[1] Standard Errors assume that the covariance matrix of the errors is correctly specified.\n",
      "[2] The smallest eigenvalue is 5.08e-22. This might indicate that there are\n",
      "strong multicollinearity problems or that the design matrix is singular.\n"
     ]
    }
   ],
   "source": [
    "X_sig = sm.add_constant(df[significant_features])\n",
    "y = df['new_price_log']\n",
    "model_sig = sm.OLS(y, X_sig).fit()\n",
    "print(model_sig.summary())"
   ]
  },
  {
   "cell_type": "markdown",
   "id": "66de3ea3",
   "metadata": {
    "id": "O416mPSCEHCo",
    "papermill": {
     "duration": 0.019357,
     "end_time": "2025-04-21T06:32:21.305170",
     "exception": false,
     "start_time": "2025-04-21T06:32:21.285813",
     "status": "completed"
    },
    "tags": []
   },
   "source": [
    "**Checking for Multicollinearity**"
   ]
  },
  {
   "cell_type": "code",
   "execution_count": 24,
   "id": "2bf80516",
   "metadata": {
    "execution": {
     "iopub.execute_input": "2025-04-21T06:32:21.347029Z",
     "iopub.status.busy": "2025-04-21T06:32:21.346172Z",
     "iopub.status.idle": "2025-04-21T06:32:21.390398Z",
     "shell.execute_reply": "2025-04-21T06:32:21.389441Z"
    },
    "id": "WZziIuGVEGr4",
    "outputId": "e4100306-d620-43bc-bb47-e39b8626ae57",
    "papermill": {
     "duration": 0.066421,
     "end_time": "2025-04-21T06:32:21.391869",
     "exception": false,
     "start_time": "2025-04-21T06:32:21.325448",
     "status": "completed"
    },
    "tags": []
   },
   "outputs": [
    {
     "name": "stdout",
     "output_type": "stream",
     "text": [
      "          Feature        VIF\n",
      "0        bedrooms   1.676394\n",
      "1       bathrooms   3.264259\n",
      "2     sqft_living        inf\n",
      "3        sqft_lot   1.075637\n",
      "4          floors   1.876260\n",
      "5            view   1.191538\n",
      "6       condition   1.430426\n",
      "7      sqft_above        inf\n",
      "8   sqft_basement        inf\n",
      "9        prop_age   1.898894\n",
      "10   is_renovated   1.314590\n",
      "11      year_sold  68.441058\n"
     ]
    }
   ],
   "source": [
    "from statsmodels.stats.outliers_influence import variance_inflation_factor\n",
    "\n",
    "# Add constant again for VIF check\n",
    "X_vif = sm.add_constant(df[significant_features])\n",
    "\n",
    "# Calculate VIF\n",
    "vif_data = pd.DataFrame()\n",
    "vif_data['Feature'] = X_vif.columns\n",
    "vif_data['VIF'] = [variance_inflation_factor(X_vif.values, i)\n",
    "                   for i in range(X_vif.shape[1])]\n",
    "\n",
    "print(vif_data)"
   ]
  },
  {
   "cell_type": "markdown",
   "id": "e5dca008",
   "metadata": {
    "id": "UzEWi7TGkPaV",
    "papermill": {
     "duration": 0.020626,
     "end_time": "2025-04-21T06:32:21.432391",
     "exception": false,
     "start_time": "2025-04-21T06:32:21.411765",
     "status": "completed"
    },
    "tags": []
   },
   "source": [
    "# **7. Feature Scaling <a id=\"feature-scaling\"></a>**"
   ]
  },
  {
   "cell_type": "markdown",
   "id": "843028fb",
   "metadata": {
    "id": "x172mOQekPaV",
    "papermill": {
     "duration": 0.019635,
     "end_time": "2025-04-21T06:32:21.472139",
     "exception": false,
     "start_time": "2025-04-21T06:32:21.452504",
     "status": "completed"
    },
    "tags": []
   },
   "source": [
    "We need this step, since bedrooms-> 2,3,4 and sqft_living-> thousands. Also, Linear models are senisitive to scale differences. It adjusts range of values without changing their distribution."
   ]
  },
  {
   "cell_type": "markdown",
   "id": "069604ef",
   "metadata": {
    "id": "JVARcrKe9aB2",
    "papermill": {
     "duration": 0.019781,
     "end_time": "2025-04-21T06:32:21.511828",
     "exception": false,
     "start_time": "2025-04-21T06:32:21.492047",
     "status": "completed"
    },
    "tags": []
   },
   "source": [
    "1. **Standardization (Z-score)** -> scaling b/w mean = 0 and SD = 1; when you are assuming Normal distribution. Eg: Linear Regression\n",
    "2. Normalization (Min-max scaling) -> scaling in the range of (0,1); when you are not assuming any distribution. Eg: KNN"
   ]
  },
  {
   "cell_type": "markdown",
   "id": "44e8d62c",
   "metadata": {
    "id": "08Ztt7Q4kPaV",
    "papermill": {
     "duration": 0.020129,
     "end_time": "2025-04-21T06:32:21.551675",
     "exception": false,
     "start_time": "2025-04-21T06:32:21.531546",
     "status": "completed"
    },
    "tags": []
   },
   "source": [
    "**7.1 Standard Scaling** <a id=\"standard-scaling\"></a>"
   ]
  },
  {
   "cell_type": "code",
   "execution_count": 25,
   "id": "e319810e",
   "metadata": {
    "execution": {
     "iopub.execute_input": "2025-04-21T06:32:21.591125Z",
     "iopub.status.busy": "2025-04-21T06:32:21.590841Z",
     "iopub.status.idle": "2025-04-21T06:32:21.702007Z",
     "shell.execute_reply": "2025-04-21T06:32:21.701285Z"
    },
    "id": "YfGPPeVEkPaW",
    "papermill": {
     "duration": 0.132651,
     "end_time": "2025-04-21T06:32:21.703466",
     "exception": false,
     "start_time": "2025-04-21T06:32:21.570815",
     "status": "completed"
    },
    "tags": []
   },
   "outputs": [],
   "source": [
    "from sklearn.preprocessing import StandardScaler\n",
    "\n",
    "# Select X and y\n",
    "X = df.drop(columns=['new_price_log', 'sqft_above', 'sqft_basement'])\n",
    "y = df['new_price_log']\n",
    "\n",
    "# Standard scale X\n",
    "scaler = StandardScaler()\n",
    "X_scaled = scaler.fit_transform(X)"
   ]
  },
  {
   "cell_type": "markdown",
   "id": "6a7a4854",
   "metadata": {
    "id": "CRDREJ9pkPaW",
    "papermill": {
     "duration": 0.018805,
     "end_time": "2025-04-21T06:32:21.742078",
     "exception": false,
     "start_time": "2025-04-21T06:32:21.723273",
     "status": "completed"
    },
    "tags": []
   },
   "source": [
    "# **8. Data Split** <a id=\"data-split\"></a>"
   ]
  },
  {
   "cell_type": "markdown",
   "id": "a1e1d194",
   "metadata": {
    "id": "8qvsyiLDkPaW",
    "papermill": {
     "duration": 0.01914,
     "end_time": "2025-04-21T06:32:21.780243",
     "exception": false,
     "start_time": "2025-04-21T06:32:21.761103",
     "status": "completed"
    },
    "tags": []
   },
   "source": [
    "**8.1 Train-Test Data Split** <a id=\"train-test-split\"></a>\n",
    "- Splitting data into training and testing sets (80-20)."
   ]
  },
  {
   "cell_type": "code",
   "execution_count": 26,
   "id": "04451a7d",
   "metadata": {
    "execution": {
     "iopub.execute_input": "2025-04-21T06:32:21.819967Z",
     "iopub.status.busy": "2025-04-21T06:32:21.819335Z",
     "iopub.status.idle": "2025-04-21T06:32:21.928631Z",
     "shell.execute_reply": "2025-04-21T06:32:21.927899Z"
    },
    "id": "WMAwA8ASFbDB",
    "papermill": {
     "duration": 0.130828,
     "end_time": "2025-04-21T06:32:21.930180",
     "exception": false,
     "start_time": "2025-04-21T06:32:21.799352",
     "status": "completed"
    },
    "tags": []
   },
   "outputs": [],
   "source": [
    "from sklearn.model_selection import train_test_split\n",
    "\n",
    "X_train, X_test, y_train, y_test = train_test_split(X_scaled, y, test_size=0.2, random_state=42)"
   ]
  },
  {
   "cell_type": "markdown",
   "id": "727d626c",
   "metadata": {
    "id": "uOoUQe4FkPaW",
    "papermill": {
     "duration": 0.019063,
     "end_time": "2025-04-21T06:32:21.968773",
     "exception": false,
     "start_time": "2025-04-21T06:32:21.949710",
     "status": "completed"
    },
    "tags": []
   },
   "source": [
    "# **9. Regression Model** <a id=\"ml-model\"></a>"
   ]
  },
  {
   "cell_type": "markdown",
   "id": "6ddee722",
   "metadata": {
    "id": "n7JMpdOpkPaW",
    "papermill": {
     "duration": 0.018982,
     "end_time": "2025-04-21T06:32:22.007045",
     "exception": false,
     "start_time": "2025-04-21T06:32:21.988063",
     "status": "completed"
    },
    "tags": []
   },
   "source": [
    "**9.1 Linear Regression Model** <a id=\"linear-regression\"></a>"
   ]
  },
  {
   "cell_type": "code",
   "execution_count": 27,
   "id": "ec5e9fff",
   "metadata": {
    "execution": {
     "iopub.execute_input": "2025-04-21T06:32:22.046900Z",
     "iopub.status.busy": "2025-04-21T06:32:22.046551Z",
     "iopub.status.idle": "2025-04-21T06:32:22.163332Z",
     "shell.execute_reply": "2025-04-21T06:32:22.161581Z"
    },
    "id": "vvQn6xcRkPaW",
    "outputId": "7b77e9e8-b108-466a-aa76-483672ac4949",
    "papermill": {
     "duration": 0.138773,
     "end_time": "2025-04-21T06:32:22.165103",
     "exception": false,
     "start_time": "2025-04-21T06:32:22.026330",
     "status": "completed"
    },
    "tags": []
   },
   "outputs": [
    {
     "name": "stdout",
     "output_type": "stream",
     "text": [
      "Linear Regression R² Train: 0.5341\n",
      "Linear Regression R² Test: 0.4564\n"
     ]
    }
   ],
   "source": [
    "from sklearn.linear_model import LinearRegression\n",
    "from sklearn.metrics import r2_score\n",
    "\n",
    "# Initialize and fit the Linear Regression model\n",
    "lin_reg = LinearRegression()\n",
    "lin_reg.fit(X_train, y_train)\n",
    "\n",
    "# Get the R² score for both train and test data\n",
    "lin_reg_train_r2 = lin_reg.score(X_train, y_train)\n",
    "lin_reg_test_r2 = lin_reg.score(X_test, y_test)\n",
    "\n",
    "print(f\"Linear Regression R² Train: {lin_reg_train_r2:.4f}\")\n",
    "print(f\"Linear Regression R² Test: {lin_reg_test_r2:.4f}\")"
   ]
  },
  {
   "cell_type": "markdown",
   "id": "aec66729",
   "metadata": {
    "papermill": {
     "duration": 0.032043,
     "end_time": "2025-04-21T06:32:22.229933",
     "exception": false,
     "start_time": "2025-04-21T06:32:22.197890",
     "status": "completed"
    },
    "tags": []
   },
   "source": [
    "# **10. Regularization Techniques** <a id=\"ml-model\"></a>"
   ]
  },
  {
   "cell_type": "markdown",
   "id": "ad8f2b3c",
   "metadata": {
    "papermill": {
     "duration": 0.026098,
     "end_time": "2025-04-21T06:32:22.288172",
     "exception": false,
     "start_time": "2025-04-21T06:32:22.262074",
     "status": "completed"
    },
    "tags": []
   },
   "source": [
    "**10.1 Ridge (L2) Regression Model** <a id=\"linear-regression\"></a>"
   ]
  },
  {
   "cell_type": "code",
   "execution_count": 28,
   "id": "2cf4bfb7",
   "metadata": {
    "execution": {
     "iopub.execute_input": "2025-04-21T06:32:22.327996Z",
     "iopub.status.busy": "2025-04-21T06:32:22.327353Z",
     "iopub.status.idle": "2025-04-21T06:32:22.336404Z",
     "shell.execute_reply": "2025-04-21T06:32:22.335629Z"
    },
    "id": "exnW0cZ_FtZ8",
    "outputId": "721fa5ba-a5e5-4728-b9b7-4b8fea8ff212",
    "papermill": {
     "duration": 0.030201,
     "end_time": "2025-04-21T06:32:22.337645",
     "exception": false,
     "start_time": "2025-04-21T06:32:22.307444",
     "status": "completed"
    },
    "tags": []
   },
   "outputs": [
    {
     "name": "stdout",
     "output_type": "stream",
     "text": [
      "Ridge R² Train: 0.5341\n",
      "Ridge R² Test: 0.4564\n"
     ]
    }
   ],
   "source": [
    "from sklearn.linear_model import Ridge\n",
    "from sklearn.metrics import r2_score\n",
    "\n",
    "ridge = Ridge(alpha=1.0)\n",
    "ridge.fit(X_train, y_train)\n",
    "\n",
    "ridge_train_r2 = ridge.score(X_train, y_train)\n",
    "ridge_test_r2 = ridge.score(X_test, y_test)\n",
    "\n",
    "print(f\"Ridge R² Train: {ridge_train_r2:.4f}\")\n",
    "print(f\"Ridge R² Test: {ridge_test_r2:.4f}\")"
   ]
  },
  {
   "cell_type": "markdown",
   "id": "d2a9beed",
   "metadata": {
    "papermill": {
     "duration": 0.019297,
     "end_time": "2025-04-21T06:32:22.376436",
     "exception": false,
     "start_time": "2025-04-21T06:32:22.357139",
     "status": "completed"
    },
    "tags": []
   },
   "source": [
    "**10.2 Lasso (L1) Regression Model** <a id=\"linear-regression\"></a>"
   ]
  },
  {
   "cell_type": "code",
   "execution_count": 29,
   "id": "3003eff3",
   "metadata": {
    "execution": {
     "iopub.execute_input": "2025-04-21T06:32:22.417053Z",
     "iopub.status.busy": "2025-04-21T06:32:22.416295Z",
     "iopub.status.idle": "2025-04-21T06:32:22.428263Z",
     "shell.execute_reply": "2025-04-21T06:32:22.427270Z"
    },
    "id": "gKHfwZKEGVvE",
    "outputId": "15800b7f-882b-4424-be63-c5731202c0bb",
    "papermill": {
     "duration": 0.033672,
     "end_time": "2025-04-21T06:32:22.429541",
     "exception": false,
     "start_time": "2025-04-21T06:32:22.395869",
     "status": "completed"
    },
    "tags": []
   },
   "outputs": [
    {
     "name": "stdout",
     "output_type": "stream",
     "text": [
      "Lasso R² Train: 0.4152\n",
      "Lasso R² Test: 0.4152\n"
     ]
    }
   ],
   "source": [
    "from sklearn.linear_model import Lasso\n",
    "\n",
    "lasso = Lasso(alpha=0.1)\n",
    "lasso.fit(X_train, y_train)\n",
    "\n",
    "lasso_train_r2 = lasso.score(X_train, y_train)\n",
    "lasso_test_r2 = lasso.score(X_test, y_test)\n",
    "\n",
    "print(f\"Lasso R² Train: {lasso_train_r2:.4f}\")\n",
    "print(f\"Lasso R² Test: {lasso_test_r2:.4f}\")"
   ]
  },
  {
   "cell_type": "markdown",
   "id": "0503c7cd",
   "metadata": {
    "papermill": {
     "duration": 0.019194,
     "end_time": "2025-04-21T06:32:22.468369",
     "exception": false,
     "start_time": "2025-04-21T06:32:22.449175",
     "status": "completed"
    },
    "tags": []
   },
   "source": [
    "**10.3 Elastic Network Regression Model** <a id=\"linear-regression\"></a>"
   ]
  },
  {
   "cell_type": "code",
   "execution_count": 30,
   "id": "f9ac991e",
   "metadata": {
    "execution": {
     "iopub.execute_input": "2025-04-21T06:32:22.508470Z",
     "iopub.status.busy": "2025-04-21T06:32:22.507730Z",
     "iopub.status.idle": "2025-04-21T06:32:22.516992Z",
     "shell.execute_reply": "2025-04-21T06:32:22.516227Z"
    },
    "id": "xSPM47RbGZvk",
    "outputId": "35c8735a-81f1-47f2-bbd8-aaef9f70b22a",
    "papermill": {
     "duration": 0.030745,
     "end_time": "2025-04-21T06:32:22.518340",
     "exception": false,
     "start_time": "2025-04-21T06:32:22.487595",
     "status": "completed"
    },
    "tags": []
   },
   "outputs": [
    {
     "name": "stdout",
     "output_type": "stream",
     "text": [
      "ElasticNet R² Train: 0.4703\n",
      "ElasticNet R² Test: 0.4525\n"
     ]
    }
   ],
   "source": [
    "from sklearn.linear_model import ElasticNet\n",
    "\n",
    "elastic = ElasticNet(alpha=0.1, l1_ratio=0.5)\n",
    "elastic.fit(X_train, y_train)\n",
    "\n",
    "elastic_train_r2 = elastic.score(X_train, y_train)\n",
    "elastic_test_r2 = elastic.score(X_test, y_test)\n",
    "\n",
    "print(f\"ElasticNet R² Train: {elastic_train_r2:.4f}\")\n",
    "print(f\"ElasticNet R² Test: {elastic_test_r2:.4f}\")"
   ]
  },
  {
   "cell_type": "markdown",
   "id": "e4fe633e",
   "metadata": {
    "papermill": {
     "duration": 0.019166,
     "end_time": "2025-04-21T06:32:22.558401",
     "exception": false,
     "start_time": "2025-04-21T06:32:22.539235",
     "status": "completed"
    },
    "tags": []
   },
   "source": [
    "# **11. Evaluation metrics** <a id=\"ml-model\"></a>"
   ]
  },
  {
   "cell_type": "markdown",
   "id": "58f3dbe3",
   "metadata": {
    "id": "ZAz5LzkGkPaY",
    "papermill": {
     "duration": 0.020144,
     "end_time": "2025-04-21T06:32:22.598422",
     "exception": false,
     "start_time": "2025-04-21T06:32:22.578278",
     "status": "completed"
    },
    "tags": []
   },
   "source": [
    "**11.1 Model Evaluation (MSE, R², Adjusted R²)** <a id=\"model-evaluation\"></a>"
   ]
  },
  {
   "cell_type": "markdown",
   "id": "93fdacfd",
   "metadata": {
    "id": "HEtMbqjmkPaY",
    "papermill": {
     "duration": 0.019612,
     "end_time": "2025-04-21T06:32:22.638031",
     "exception": false,
     "start_time": "2025-04-21T06:32:22.618419",
     "status": "completed"
    },
    "tags": []
   },
   "source": [
    "To check how well the model predicts house prices:\n",
    "\n",
    "1. **MSE**: penalizes large errors more than small ones.\n",
    "2. **R^2**: High R^2, better fit\n",
    "3. **Adjusted R^2**: penalizes unnecessary predictors\n",
    "4. MAE: treats all errors equally; better than MSE; non-differentiable; cannot optimize this using gradient-descent\n",
    "5. RMSE: gives **more weight to large errors**, useful when large errors are critical; gives in same units as dependent variable. Eg: Weather forecasting, financial models"
   ]
  },
  {
   "cell_type": "code",
   "execution_count": 31,
   "id": "672eb354",
   "metadata": {
    "execution": {
     "iopub.execute_input": "2025-04-21T06:32:22.679601Z",
     "iopub.status.busy": "2025-04-21T06:32:22.679307Z",
     "iopub.status.idle": "2025-04-21T06:32:22.687321Z",
     "shell.execute_reply": "2025-04-21T06:32:22.686488Z"
    },
    "id": "4RLZVQyLHIcj",
    "outputId": "1ed162f6-2c3f-4f57-b4e0-582721ccc887",
    "papermill": {
     "duration": 0.030366,
     "end_time": "2025-04-21T06:32:22.688467",
     "exception": false,
     "start_time": "2025-04-21T06:32:22.658101",
     "status": "completed"
    },
    "tags": []
   },
   "outputs": [
    {
     "name": "stdout",
     "output_type": "stream",
     "text": [
      "               Model  Train R²   Test R²\n",
      "0  Linear Regression  0.534111  0.456361\n",
      "1              Lasso  0.415157  0.415165\n",
      "2              Ridge  0.534111  0.456414\n",
      "3         ElasticNet  0.470330  0.452496\n"
     ]
    }
   ],
   "source": [
    "import pandas as pd\n",
    "\n",
    "# Initialize models\n",
    "models = ['Linear Regression', 'Lasso', 'Ridge', 'ElasticNet']\n",
    "train_r2 = [lin_reg_train_r2, lasso_train_r2, ridge_train_r2, elastic_train_r2]\n",
    "test_r2 = [lin_reg_test_r2, lasso_test_r2, ridge_test_r2, elastic_test_r2]\n",
    "\n",
    "# Create a DataFrame to tabulate the results\n",
    "results_df = pd.DataFrame({\n",
    "    'Model': models,\n",
    "    'Train R²': train_r2,\n",
    "    'Test R²': test_r2\n",
    "})\n",
    "\n",
    "# Print the results\n",
    "print(results_df)"
   ]
  },
  {
   "cell_type": "markdown",
   "id": "1d79dd70",
   "metadata": {
    "id": "ap0nmjavZ1r9",
    "papermill": {
     "duration": 0.019251,
     "end_time": "2025-04-21T06:32:22.728002",
     "exception": false,
     "start_time": "2025-04-21T06:32:22.708751",
     "status": "completed"
    },
    "tags": []
   },
   "source": [
    "# 12. Cross-Validation <a id=\"regularization\"></a>"
   ]
  },
  {
   "cell_type": "markdown",
   "id": "f924c755",
   "metadata": {
    "id": "0j5uo-ASbdl1",
    "papermill": {
     "duration": 0.019048,
     "end_time": "2025-04-21T06:32:22.766380",
     "exception": false,
     "start_time": "2025-04-21T06:32:22.747332",
     "status": "completed"
    },
    "tags": []
   },
   "source": [
    "This ensures model is **trained and tested on different subsets multiple times**, unlike single train-test split which can be biased by data selection."
   ]
  },
  {
   "cell_type": "markdown",
   "id": "64f22d44",
   "metadata": {
    "id": "iQOri2cpa8-c",
    "papermill": {
     "duration": 0.018998,
     "end_time": "2025-04-21T06:32:22.804886",
     "exception": false,
     "start_time": "2025-04-21T06:32:22.785888",
     "status": "completed"
    },
    "tags": []
   },
   "source": [
    "1. **K-Fold Cross-Validation** Balanced dataset, general modeling?\n",
    "2. Stratified K-Fold: Imbalanced classes? (suitable for \"Classification\")\n",
    "3. Leave-One-Out CV: Small dataset?\n",
    "4. Leave-P-Out CV\n",
    "5. Time Series CV (Rolling/Expanding window): time series CV oo chronological dependency\n",
    "6. Repeated K-Fold: if there is \"high variance\" in model results"
   ]
  },
  {
   "cell_type": "code",
   "execution_count": 32,
   "id": "d24183da",
   "metadata": {
    "execution": {
     "iopub.execute_input": "2025-04-21T06:32:22.844943Z",
     "iopub.status.busy": "2025-04-21T06:32:22.844336Z",
     "iopub.status.idle": "2025-04-21T06:32:22.920487Z",
     "shell.execute_reply": "2025-04-21T06:32:22.919724Z"
    },
    "id": "FSd5rKRFkPab",
    "outputId": "99940407-f954-4b3a-f721-d61eabb7adb1",
    "papermill": {
     "duration": 0.098088,
     "end_time": "2025-04-21T06:32:22.922150",
     "exception": false,
     "start_time": "2025-04-21T06:32:22.824062",
     "status": "completed"
    },
    "tags": []
   },
   "outputs": [
    {
     "name": "stdout",
     "output_type": "stream",
     "text": [
      "               Model  Mean CV R²  Std CV R²\n",
      "0  Linear Regression    0.529265   0.022035\n",
      "1              Lasso   -0.000287   0.000350\n",
      "2              Ridge    0.529270   0.022025\n",
      "3         ElasticNet    0.468937   0.023978\n"
     ]
    }
   ],
   "source": [
    "from sklearn.model_selection import cross_val_score\n",
    "import numpy as np\n",
    "\n",
    "# Define models\n",
    "from sklearn.linear_model import LinearRegression, Lasso, Ridge, ElasticNet\n",
    "\n",
    "models = {\n",
    "    'Linear Regression': LinearRegression(),\n",
    "    'Lasso': Lasso(alpha=1.0),\n",
    "    'Ridge': Ridge(alpha=1.0),\n",
    "    'ElasticNet': ElasticNet(alpha=0.1, l1_ratio=0.5)\n",
    "}\n",
    "\n",
    "# Evaluate with 5-fold cross-validation\n",
    "cv_results = {}\n",
    "for name, model in models.items():\n",
    "    scores = cross_val_score(model, X_train, y_train, cv=5, scoring='r2')\n",
    "    cv_results[name] = {\n",
    "        'Mean CV R²': np.mean(scores),\n",
    "        'Std CV R²': np.std(scores)\n",
    "    }\n",
    "\n",
    "# Tabulate results\n",
    "cv_df = pd.DataFrame(cv_results).T.reset_index().rename(columns={'index': 'Model'})\n",
    "print(cv_df)"
   ]
  },
  {
   "cell_type": "markdown",
   "id": "c9e63458",
   "metadata": {
    "id": "G_Iab_6ebN2X",
    "papermill": {
     "duration": 0.03264,
     "end_time": "2025-04-21T06:32:22.987812",
     "exception": false,
     "start_time": "2025-04-21T06:32:22.955172",
     "status": "completed"
    },
    "tags": []
   },
   "source": [
    "# **13. Check your House Price here**"
   ]
  },
  {
   "cell_type": "code",
   "execution_count": 33,
   "id": "7b420ffe",
   "metadata": {
    "execution": {
     "iopub.execute_input": "2025-04-21T06:32:23.029989Z",
     "iopub.status.busy": "2025-04-21T06:32:23.029692Z",
     "iopub.status.idle": "2025-04-21T06:32:23.034703Z",
     "shell.execute_reply": "2025-04-21T06:32:23.033839Z"
    },
    "id": "UHpbLN-ZtV28",
    "papermill": {
     "duration": 0.02683,
     "end_time": "2025-04-21T06:32:23.036119",
     "exception": false,
     "start_time": "2025-04-21T06:32:23.009289",
     "status": "completed"
    },
    "tags": []
   },
   "outputs": [],
   "source": [
    "import pandas as pd\n",
    "\n",
    "feature_names = ['bedrooms', 'bathrooms', 'sqft_living', 'sqft_lot', 'floors', 'waterfront',\n",
    " 'view', 'condition', 'prop_age', 'is_renovated', 'year_sold', 'month_sold']\n",
    "\n",
    "X_train_df = pd.DataFrame(X_train, columns = feature_names)"
   ]
  },
  {
   "cell_type": "code",
   "execution_count": 34,
   "id": "353e0bdf",
   "metadata": {
    "execution": {
     "iopub.execute_input": "2025-04-21T06:32:23.077363Z",
     "iopub.status.busy": "2025-04-21T06:32:23.076567Z",
     "iopub.status.idle": "2025-04-21T06:32:23.082644Z",
     "shell.execute_reply": "2025-04-21T06:32:23.081879Z"
    },
    "id": "cgdZo81_bVCN",
    "papermill": {
     "duration": 0.027957,
     "end_time": "2025-04-21T06:32:23.084099",
     "exception": false,
     "start_time": "2025-04-21T06:32:23.056142",
     "status": "completed"
    },
    "tags": []
   },
   "outputs": [],
   "source": [
    "new_data = pd.DataFrame([[3, 2, 1800, 5000, 1, 0, 1, 3, 25, 0, 2023, 1]])"
   ]
  },
  {
   "cell_type": "markdown",
   "id": "1d32c116",
   "metadata": {
    "id": "-MspSkRffp0R",
    "papermill": {
     "duration": 0.020336,
     "end_time": "2025-04-21T06:32:23.125088",
     "exception": false,
     "start_time": "2025-04-21T06:32:23.104752",
     "status": "completed"
    },
    "tags": []
   },
   "source": [
    "**Ridge Regression**"
   ]
  },
  {
   "cell_type": "code",
   "execution_count": 35,
   "id": "765fa1b1",
   "metadata": {
    "execution": {
     "iopub.execute_input": "2025-04-21T06:32:23.166978Z",
     "iopub.status.busy": "2025-04-21T06:32:23.166675Z",
     "iopub.status.idle": "2025-04-21T06:32:23.174540Z",
     "shell.execute_reply": "2025-04-21T06:32:23.173702Z"
    },
    "id": "yddrVkJufvyY",
    "outputId": "50e81a41-7620-4449-d6aa-4d00809e0102",
    "papermill": {
     "duration": 0.030337,
     "end_time": "2025-04-21T06:32:23.175832",
     "exception": false,
     "start_time": "2025-04-21T06:32:23.145495",
     "status": "completed"
    },
    "tags": []
   },
   "outputs": [
    {
     "name": "stdout",
     "output_type": "stream",
     "text": [
      "Predicted house price: 12.72\n"
     ]
    }
   ],
   "source": [
    "prediction = ridge.predict(new_data)\n",
    "new_data_scaled = scaler.transform(new_data)\n",
    "prediction_ridge = ridge.predict(new_data_scaled)\n",
    "print(f\"Predicted house price: {prediction_ridge[0]:.2f}\")"
   ]
  },
  {
   "cell_type": "code",
   "execution_count": 36,
   "id": "32620174",
   "metadata": {
    "execution": {
     "iopub.execute_input": "2025-04-21T06:32:23.216816Z",
     "iopub.status.busy": "2025-04-21T06:32:23.216178Z",
     "iopub.status.idle": "2025-04-21T06:32:23.226559Z",
     "shell.execute_reply": "2025-04-21T06:32:23.225663Z"
    },
    "papermill": {
     "duration": 0.032226,
     "end_time": "2025-04-21T06:32:23.227890",
     "exception": false,
     "start_time": "2025-04-21T06:32:23.195664",
     "status": "completed"
    },
    "tags": []
   },
   "outputs": [
    {
     "name": "stdout",
     "output_type": "stream",
     "text": [
      "   bedrooms  bathrooms  sqft_living  sqft_lot  floors  waterfront  view  \\\n",
      "0         3          2         1800      5000       1           0     1   \n",
      "\n",
      "   condition  prop_age  is_renovated  year_sold  month_sold  predicted_price  \n",
      "0          3        25             0       2023           1               12  \n"
     ]
    }
   ],
   "source": [
    "import pandas as pd\n",
    "\n",
    "# Define feature names\n",
    "feature_names = ['bedrooms', 'bathrooms', 'sqft_living', 'sqft_lot', 'floors', 'waterfront',\n",
    " 'view', 'condition', 'prop_age', 'is_renovated', 'year_sold', 'month_sold']\n",
    "\n",
    "# Create DataFrame for new input data\n",
    "new_data = pd.DataFrame([[3, 2, 1800, 5000, 1, 0, 1, 3, 25, 0, 2023, 1]], columns=feature_names)\n",
    "\n",
    "# Scale new data before making predictions\n",
    "new_data_scaled = scaler.transform(new_data)\n",
    "\n",
    "# Predict house price using the trained Ridge model\n",
    "prediction_ridge = ridge.predict(new_data_scaled)\n",
    "\n",
    "# Convert predicted price to an integer format\n",
    "new_data['predicted_price'] = prediction_ridge.astype(int)\n",
    "\n",
    "# Display the DataFrame with the formatted predicted price\n",
    "print(new_data)"
   ]
  },
  {
   "cell_type": "code",
   "execution_count": null,
   "id": "f450e041",
   "metadata": {
    "papermill": {
     "duration": 0.020018,
     "end_time": "2025-04-21T06:32:23.267871",
     "exception": false,
     "start_time": "2025-04-21T06:32:23.247853",
     "status": "completed"
    },
    "tags": []
   },
   "outputs": [],
   "source": [
    "\n",
    "\n"
   ]
  }
 ],
 "metadata": {
  "colab": {
   "provenance": []
  },
  "kaggle": {
   "accelerator": "none",
   "dataSources": [
    {
     "datasetId": 7206575,
     "sourceId": 11495994,
     "sourceType": "datasetVersion"
    }
   ],
   "dockerImageVersionId": 31012,
   "isGpuEnabled": false,
   "isInternetEnabled": true,
   "language": "python",
   "sourceType": "notebook"
  },
  "kernelspec": {
   "display_name": "Python 3",
   "language": "python",
   "name": "python3"
  },
  "language_info": {
   "codemirror_mode": {
    "name": "ipython",
    "version": 3
   },
   "file_extension": ".py",
   "mimetype": "text/x-python",
   "name": "python",
   "nbconvert_exporter": "python",
   "pygments_lexer": "ipython3",
   "version": "3.11.11"
  },
  "papermill": {
   "default_parameters": {},
   "duration": 16.399631,
   "end_time": "2025-04-21T06:32:24.009342",
   "environment_variables": {},
   "exception": null,
   "input_path": "__notebook__.ipynb",
   "output_path": "__notebook__.ipynb",
   "parameters": {},
   "start_time": "2025-04-21T06:32:07.609711",
   "version": "2.6.0"
  }
 },
 "nbformat": 4,
 "nbformat_minor": 5
}
